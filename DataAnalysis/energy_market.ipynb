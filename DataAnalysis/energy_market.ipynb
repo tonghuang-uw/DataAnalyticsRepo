{
 "cells": [
  {
   "cell_type": "code",
   "execution_count": 2,
   "metadata": {},
   "outputs": [],
   "source": [
    "import requests\n",
    "import numpy as no\n",
    "import pandas as pd\n",
    "import matplotlib.pyplot as plt"
   ]
  },
  {
   "cell_type": "code",
   "execution_count": 40,
   "metadata": {},
   "outputs": [
    {
     "name": "stdout",
     "output_type": "stream",
     "text": [
      "failed\n"
     ]
    }
   ],
   "source": [
    "api_key = 'oMeoW90EykeZqzFUdSOXgHhnhKkWfoMhAflY6En2'\n",
    "\n",
    "api_url = f'https://api.eia.gov/v2/total-energy/data/?api_key={api_key}'\n",
    "\n",
    "total_records = 117842  # Total number of records available\n",
    "records_per_request = 5000\n",
    "num_requests = (total_records // records_per_request) + (total_records % records_per_request > 0)\n",
    "\n",
    "all_data = []\n",
    "\n",
    "for offset in range(0, num_requests * records_per_request, records_per_request):\n",
    "    Params = {\n",
    "        \"frequency\": \"monthly\",\n",
    "    \"data\": [\n",
    "        \"value\"\n",
    "    ],\n",
    "    \"facets\": {},\n",
    "    \"start\": \"2013-01\",\n",
    "    \"end\": \"2023-01\",\n",
    "    \"sort\": [\n",
    "        {\n",
    "            \"column\": \"period\",\n",
    "            \"direction\": \"desc\"\n",
    "        }\n",
    "    ],\n",
    "        \"offset\": offset,\n",
    "        \"length\": records_per_request\n",
    "    }\n",
    "    response = requests.get(api_url, params = Params)\n",
    "    if response.status_code == 200:\n",
    "        data = response.json()\n",
    "        all_data.extend(data['response']['data'])\n",
    "    else:\n",
    "        print(\"failed\")\n",
    "        break"
   ]
  },
  {
   "cell_type": "code",
   "execution_count": 34,
   "metadata": {},
   "outputs": [
    {
     "name": "stdout",
     "output_type": "stream",
     "text": [
      "      period seriesId                                  seriesDescription  \\\n",
      "0       2022    ESCCV  Electricity expenditures in the commercial sector   \n",
      "1       2022    LDVHN        Total (all fuels) vehicle light-duty stocks   \n",
      "2       2022    ESICV  Electricity expenditures in the industrial sector   \n",
      "3       2022    ELVHS  Electric vehicle (EV) share of total light-dut...   \n",
      "4       2022    ESACV  Electricity expenditures in the transportation...   \n",
      "...      ...      ...                                                ...   \n",
      "4995    2022    ESICD         Electricity price in the industrial sector   \n",
      "4996    2022    ESCCP  Electricity consumed by (i.e., sold to) the co...   \n",
      "4997    2022    EVNTP  Electric vehicle charging locations with netwo...   \n",
      "4998    2022    EV0CN        Legacy charging ports for electric vehicles   \n",
      "4999    2022    ESICV  Electricity expenditures in the industrial sector   \n",
      "\n",
      "     stateId stateDescription    value                              unit  \n",
      "0         IA             Iowa  1315.50                   Million dollars  \n",
      "1         WA       Washington  6328.70  Thousands of registered vehicles  \n",
      "2         IA             Iowa  1874.70                   Million dollars  \n",
      "3         WA       Washington     1.90                           Percent  \n",
      "4         US    United States   765.10                   Million dollars  \n",
      "...      ...              ...      ...                               ...  \n",
      "4995      ID            Idaho    19.67           Dollars per million Btu  \n",
      "4996      ID            Idaho  6837.00             Million kilowatthours  \n",
      "4997      IL         Illinois  1176.00                            Number  \n",
      "4998      US    United States    45.00                            Number  \n",
      "4999      MS      Mississippi  1001.40                   Million dollars  \n",
      "\n",
      "[5000 rows x 7 columns]\n"
     ]
    }
   ],
   "source": [
    "response = requests.get(api_url)\n",
    "\n",
    "if response.status_code == 200:\n",
    "    data = response.json()\n",
    "    df = data['response']['data']\n",
    "    df = pd.DataFrame(df)\n",
    "    print(df)\n",
    "else:\n",
    "    print(\"error message: {}\".format(response.status_code))\n"
   ]
  },
  {
   "cell_type": "code",
   "execution_count": 32,
   "metadata": {},
   "outputs": [
    {
     "data": {
      "text/html": "<div>\n<style scoped>\n    .dataframe tbody tr th:only-of-type {\n        vertical-align: middle;\n    }\n\n    .dataframe tbody tr th {\n        vertical-align: top;\n    }\n\n    .dataframe thead th {\n        text-align: right;\n    }\n</style>\n<table border=\"1\" class=\"dataframe\">\n  <thead>\n    <tr style=\"text-align: right;\">\n      <th></th>\n      <th>period</th>\n      <th>seriesId</th>\n      <th>seriesDescription</th>\n      <th>stateId</th>\n      <th>stateDescription</th>\n      <th>value</th>\n      <th>unit</th>\n    </tr>\n  </thead>\n  <tbody>\n    <tr>\n      <th>0</th>\n      <td>2022</td>\n      <td>ESCCV</td>\n      <td>Electricity expenditures in the commercial sector</td>\n      <td>IA</td>\n      <td>Iowa</td>\n      <td>1315.50</td>\n      <td>Million dollars</td>\n    </tr>\n    <tr>\n      <th>1</th>\n      <td>2022</td>\n      <td>EV0CN</td>\n      <td>Legacy charging ports for electric vehicles</td>\n      <td>KS</td>\n      <td>Kansas</td>\n      <td>0.00</td>\n      <td>Number</td>\n    </tr>\n    <tr>\n      <th>2</th>\n      <td>2022</td>\n      <td>EV0CN</td>\n      <td>Legacy charging ports for electric vehicles</td>\n      <td>CT</td>\n      <td>Connecticut</td>\n      <td>2.00</td>\n      <td>Number</td>\n    </tr>\n    <tr>\n      <th>3</th>\n      <td>2022</td>\n      <td>LDVHN</td>\n      <td>Total (all fuels) vehicle light-duty stocks</td>\n      <td>AL</td>\n      <td>Alabama</td>\n      <td>4461.50</td>\n      <td>Thousands of registered vehicles</td>\n    </tr>\n    <tr>\n      <th>4</th>\n      <td>2022</td>\n      <td>BTVHN</td>\n      <td>Battery electric vehicle (BEV) light-duty stocks</td>\n      <td>VA</td>\n      <td>Virginia</td>\n      <td>49.00</td>\n      <td>Thousands of registered vehicles</td>\n    </tr>\n    <tr>\n      <th>...</th>\n      <td>...</td>\n      <td>...</td>\n      <td>...</td>\n      <td>...</td>\n      <td>...</td>\n      <td>...</td>\n      <td>...</td>\n    </tr>\n    <tr>\n      <th>4995</th>\n      <td>2022</td>\n      <td>ESICD</td>\n      <td>Electricity price in the industrial sector</td>\n      <td>ID</td>\n      <td>Idaho</td>\n      <td>19.67</td>\n      <td>Dollars per million Btu</td>\n    </tr>\n    <tr>\n      <th>4996</th>\n      <td>2022</td>\n      <td>ESCCP</td>\n      <td>Electricity consumed by (i.e., sold to) the co...</td>\n      <td>ID</td>\n      <td>Idaho</td>\n      <td>6837.00</td>\n      <td>Million kilowatthours</td>\n    </tr>\n    <tr>\n      <th>4997</th>\n      <td>2022</td>\n      <td>EVNTP</td>\n      <td>Electric vehicle charging locations with netwo...</td>\n      <td>IL</td>\n      <td>Illinois</td>\n      <td>1176.00</td>\n      <td>Number</td>\n    </tr>\n    <tr>\n      <th>4998</th>\n      <td>2022</td>\n      <td>EV0CN</td>\n      <td>Legacy charging ports for electric vehicles</td>\n      <td>US</td>\n      <td>United States</td>\n      <td>45.00</td>\n      <td>Number</td>\n    </tr>\n    <tr>\n      <th>4999</th>\n      <td>2022</td>\n      <td>ESICV</td>\n      <td>Electricity expenditures in the industrial sector</td>\n      <td>MS</td>\n      <td>Mississippi</td>\n      <td>1001.40</td>\n      <td>Million dollars</td>\n    </tr>\n  </tbody>\n</table>\n<p>5000 rows × 7 columns</p>\n</div>",
      "text/plain": "      period seriesId                                  seriesDescription  \\\n0       2022    ESCCV  Electricity expenditures in the commercial sector   \n1       2022    EV0CN        Legacy charging ports for electric vehicles   \n2       2022    EV0CN        Legacy charging ports for electric vehicles   \n3       2022    LDVHN        Total (all fuels) vehicle light-duty stocks   \n4       2022    BTVHN   Battery electric vehicle (BEV) light-duty stocks   \n...      ...      ...                                                ...   \n4995    2022    ESICD         Electricity price in the industrial sector   \n4996    2022    ESCCP  Electricity consumed by (i.e., sold to) the co...   \n4997    2022    EVNTP  Electric vehicle charging locations with netwo...   \n4998    2022    EV0CN        Legacy charging ports for electric vehicles   \n4999    2022    ESICV  Electricity expenditures in the industrial sector   \n\n     stateId stateDescription    value                              unit  \n0         IA             Iowa  1315.50                   Million dollars  \n1         KS           Kansas     0.00                            Number  \n2         CT      Connecticut     2.00                            Number  \n3         AL          Alabama  4461.50  Thousands of registered vehicles  \n4         VA         Virginia    49.00  Thousands of registered vehicles  \n...      ...              ...      ...                               ...  \n4995      ID            Idaho    19.67           Dollars per million Btu  \n4996      ID            Idaho  6837.00             Million kilowatthours  \n4997      IL         Illinois  1176.00                            Number  \n4998      US    United States    45.00                            Number  \n4999      MS      Mississippi  1001.40                   Million dollars  \n\n[5000 rows x 7 columns]"
     },
     "execution_count": 32,
     "metadata": {},
     "output_type": "execute_result"
    }
   ],
   "source": [
    "df"
   ]
  },
  {
   "cell_type": "code",
   "execution_count": null,
   "metadata": {},
   "outputs": [],
   "source": []
  }
 ],
 "metadata": {
  "kernelspec": {
   "display_name": "Python 3.11.7 64-bit ('nlp': conda)",
   "name": "python3117jvsc74a57bd061144442c5bba5d28851d4d88bd107affeefd4f9a3e21babceae053099746efa"
  },
  "language_info": {
   "codemirror_mode": {
    "name": "ipython",
    "version": 3
   },
   "file_extension": ".py",
   "mimetype": "text/x-python",
   "name": "python",
   "nbconvert_exporter": "python",
   "pygments_lexer": "ipython3",
   "version": "3.11.7"
  },
  "orig_nbformat": 2
 },
 "nbformat": 4,
 "nbformat_minor": 2
}