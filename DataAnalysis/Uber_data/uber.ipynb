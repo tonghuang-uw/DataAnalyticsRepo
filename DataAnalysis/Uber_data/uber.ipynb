{
 "cells": [
  {
   "cell_type": "code",
   "execution_count": 1,
   "metadata": {},
   "outputs": [],
   "source": [
    "import pandas as pd\n",
    "import pyarrow.parquet as pq\n",
    "import os"
   ]
  },
  {
   "cell_type": "code",
   "execution_count": 3,
   "metadata": {},
   "outputs": [
    {
     "name": "stdout",
     "output_type": "stream",
     "text": [
      "<class 'pandas.core.frame.DataFrame'>\n",
      "RangeIndex: 10905067 entries, 0 to 10905066\n",
      "Data columns (total 19 columns):\n",
      " #   Column                 Dtype         \n",
      "---  ------                 -----         \n",
      " 0   VendorID               int64         \n",
      " 1   tpep_pickup_datetime   datetime64[us]\n",
      " 2   tpep_dropoff_datetime  datetime64[us]\n",
      " 3   passenger_count        int64         \n",
      " 4   trip_distance          float64       \n",
      " 5   RatecodeID             int64         \n",
      " 6   store_and_fwd_flag     object        \n",
      " 7   PULocationID           int64         \n",
      " 8   DOLocationID           int64         \n",
      " 9   payment_type           int64         \n",
      " 10  fare_amount            float64       \n",
      " 11  extra                  float64       \n",
      " 12  mta_tax                float64       \n",
      " 13  tip_amount             float64       \n",
      " 14  tolls_amount           float64       \n",
      " 15  improvement_surcharge  float64       \n",
      " 16  total_amount           float64       \n",
      " 17  congestion_surcharge   object        \n",
      " 18  airport_fee            object        \n",
      "dtypes: datetime64[us](2), float64(8), int64(6), object(3)\n",
      "memory usage: 1.5+ GB\n"
     ]
    }
   ],
   "source": [
    "data = pq.read_table('./data/2016_01.parquet')\n",
    "df = data.to_pandas()\n",
    "df.info()"
   ]
  },
  {
   "cell_type": "code",
   "execution_count": 4,
   "metadata": {},
   "outputs": [],
   "source": [
    "df = df.drop_duplicates().reset_index(drop=True)\n",
    "df['trip_id'] = df.index"
   ]
  },
  {
   "cell_type": "code",
   "execution_count": 5,
   "metadata": {},
   "outputs": [
    {
     "data": {
      "text/html": "<div>\n<style scoped>\n    .dataframe tbody tr th:only-of-type {\n        vertical-align: middle;\n    }\n\n    .dataframe tbody tr th {\n        vertical-align: top;\n    }\n\n    .dataframe thead th {\n        text-align: right;\n    }\n</style>\n<table border=\"1\" class=\"dataframe\">\n  <thead>\n    <tr style=\"text-align: right;\">\n      <th></th>\n      <th>VendorID</th>\n      <th>tpep_pickup_datetime</th>\n      <th>tpep_dropoff_datetime</th>\n      <th>passenger_count</th>\n      <th>trip_distance</th>\n      <th>RatecodeID</th>\n      <th>store_and_fwd_flag</th>\n      <th>PULocationID</th>\n      <th>DOLocationID</th>\n      <th>payment_type</th>\n      <th>fare_amount</th>\n      <th>extra</th>\n      <th>mta_tax</th>\n      <th>tip_amount</th>\n      <th>tolls_amount</th>\n      <th>improvement_surcharge</th>\n      <th>total_amount</th>\n      <th>congestion_surcharge</th>\n      <th>airport_fee</th>\n      <th>trip_id</th>\n    </tr>\n  </thead>\n  <tbody>\n    <tr>\n      <th>0</th>\n      <td>1</td>\n      <td>2016-01-01 00:12:22</td>\n      <td>2016-01-01 00:29:14</td>\n      <td>1</td>\n      <td>3.2</td>\n      <td>1</td>\n      <td>N</td>\n      <td>48</td>\n      <td>262</td>\n      <td>1</td>\n      <td>14.0</td>\n      <td>0.5</td>\n      <td>0.5</td>\n      <td>3.06</td>\n      <td>0.0</td>\n      <td>0.3</td>\n      <td>18.36</td>\n      <td>None</td>\n      <td>None</td>\n      <td>0</td>\n    </tr>\n    <tr>\n      <th>1</th>\n      <td>1</td>\n      <td>2016-01-01 00:41:31</td>\n      <td>2016-01-01 00:55:10</td>\n      <td>2</td>\n      <td>1.0</td>\n      <td>1</td>\n      <td>N</td>\n      <td>162</td>\n      <td>48</td>\n      <td>2</td>\n      <td>9.5</td>\n      <td>0.5</td>\n      <td>0.5</td>\n      <td>0.00</td>\n      <td>0.0</td>\n      <td>0.3</td>\n      <td>10.80</td>\n      <td>None</td>\n      <td>None</td>\n      <td>1</td>\n    </tr>\n    <tr>\n      <th>2</th>\n      <td>1</td>\n      <td>2016-01-01 00:53:37</td>\n      <td>2016-01-01 00:59:57</td>\n      <td>1</td>\n      <td>0.9</td>\n      <td>1</td>\n      <td>N</td>\n      <td>246</td>\n      <td>90</td>\n      <td>2</td>\n      <td>6.0</td>\n      <td>0.5</td>\n      <td>0.5</td>\n      <td>0.00</td>\n      <td>0.0</td>\n      <td>0.3</td>\n      <td>7.30</td>\n      <td>None</td>\n      <td>None</td>\n      <td>2</td>\n    </tr>\n    <tr>\n      <th>3</th>\n      <td>1</td>\n      <td>2016-01-01 00:13:28</td>\n      <td>2016-01-01 00:18:07</td>\n      <td>1</td>\n      <td>0.8</td>\n      <td>1</td>\n      <td>N</td>\n      <td>170</td>\n      <td>162</td>\n      <td>2</td>\n      <td>5.0</td>\n      <td>0.5</td>\n      <td>0.5</td>\n      <td>0.00</td>\n      <td>0.0</td>\n      <td>0.3</td>\n      <td>6.30</td>\n      <td>None</td>\n      <td>None</td>\n      <td>3</td>\n    </tr>\n    <tr>\n      <th>4</th>\n      <td>1</td>\n      <td>2016-01-01 00:33:04</td>\n      <td>2016-01-01 00:47:14</td>\n      <td>1</td>\n      <td>1.8</td>\n      <td>1</td>\n      <td>N</td>\n      <td>161</td>\n      <td>140</td>\n      <td>2</td>\n      <td>11.0</td>\n      <td>0.5</td>\n      <td>0.5</td>\n      <td>0.00</td>\n      <td>0.0</td>\n      <td>0.3</td>\n      <td>12.30</td>\n      <td>None</td>\n      <td>None</td>\n      <td>4</td>\n    </tr>\n  </tbody>\n</table>\n</div>",
      "text/plain": "   VendorID tpep_pickup_datetime tpep_dropoff_datetime  passenger_count  \\\n0         1  2016-01-01 00:12:22   2016-01-01 00:29:14                1   \n1         1  2016-01-01 00:41:31   2016-01-01 00:55:10                2   \n2         1  2016-01-01 00:53:37   2016-01-01 00:59:57                1   \n3         1  2016-01-01 00:13:28   2016-01-01 00:18:07                1   \n4         1  2016-01-01 00:33:04   2016-01-01 00:47:14                1   \n\n   trip_distance  RatecodeID store_and_fwd_flag  PULocationID  DOLocationID  \\\n0            3.2           1                  N            48           262   \n1            1.0           1                  N           162            48   \n2            0.9           1                  N           246            90   \n3            0.8           1                  N           170           162   \n4            1.8           1                  N           161           140   \n\n   payment_type  fare_amount  extra  mta_tax  tip_amount  tolls_amount  \\\n0             1         14.0    0.5      0.5        3.06           0.0   \n1             2          9.5    0.5      0.5        0.00           0.0   \n2             2          6.0    0.5      0.5        0.00           0.0   \n3             2          5.0    0.5      0.5        0.00           0.0   \n4             2         11.0    0.5      0.5        0.00           0.0   \n\n   improvement_surcharge  total_amount congestion_surcharge airport_fee  \\\n0                    0.3         18.36                 None        None   \n1                    0.3         10.80                 None        None   \n2                    0.3          7.30                 None        None   \n3                    0.3          6.30                 None        None   \n4                    0.3         12.30                 None        None   \n\n   trip_id  \n0        0  \n1        1  \n2        2  \n3        3  \n4        4  "
     },
     "execution_count": 5,
     "metadata": {},
     "output_type": "execute_result"
    }
   ],
   "source": [
    "df.head()"
   ]
  },
  {
   "cell_type": "markdown",
   "metadata": {},
   "source": [
    "# Create dimension table"
   ]
  },
  {
   "cell_type": "code",
   "execution_count": 6,
   "metadata": {},
   "outputs": [
    {
     "data": {
      "text/html": "<div>\n<style scoped>\n    .dataframe tbody tr th:only-of-type {\n        vertical-align: middle;\n    }\n\n    .dataframe tbody tr th {\n        vertical-align: top;\n    }\n\n    .dataframe thead th {\n        text-align: right;\n    }\n</style>\n<table border=\"1\" class=\"dataframe\">\n  <thead>\n    <tr style=\"text-align: right;\">\n      <th></th>\n      <th>datetime_id</th>\n      <th>tpep_pickup_datetime</th>\n      <th>pick_hour</th>\n      <th>pick_day</th>\n      <th>pick_month</th>\n      <th>pick_year</th>\n      <th>pick_weekday</th>\n      <th>tpep_dropoff_datetime</th>\n      <th>drop_hour</th>\n      <th>drop_day</th>\n      <th>drop_month</th>\n      <th>drop_year</th>\n      <th>drop_weekday</th>\n    </tr>\n  </thead>\n  <tbody>\n    <tr>\n      <th>0</th>\n      <td>0</td>\n      <td>2016-01-01 00:12:22</td>\n      <td>0</td>\n      <td>1</td>\n      <td>1</td>\n      <td>2016</td>\n      <td>4</td>\n      <td>2016-01-01 00:29:14</td>\n      <td>0</td>\n      <td>1</td>\n      <td>1</td>\n      <td>2016</td>\n      <td>4</td>\n    </tr>\n    <tr>\n      <th>1</th>\n      <td>1</td>\n      <td>2016-01-01 00:41:31</td>\n      <td>0</td>\n      <td>1</td>\n      <td>1</td>\n      <td>2016</td>\n      <td>4</td>\n      <td>2016-01-01 00:55:10</td>\n      <td>0</td>\n      <td>1</td>\n      <td>1</td>\n      <td>2016</td>\n      <td>4</td>\n    </tr>\n    <tr>\n      <th>2</th>\n      <td>2</td>\n      <td>2016-01-01 00:53:37</td>\n      <td>0</td>\n      <td>1</td>\n      <td>1</td>\n      <td>2016</td>\n      <td>4</td>\n      <td>2016-01-01 00:59:57</td>\n      <td>0</td>\n      <td>1</td>\n      <td>1</td>\n      <td>2016</td>\n      <td>4</td>\n    </tr>\n    <tr>\n      <th>3</th>\n      <td>3</td>\n      <td>2016-01-01 00:13:28</td>\n      <td>0</td>\n      <td>1</td>\n      <td>1</td>\n      <td>2016</td>\n      <td>4</td>\n      <td>2016-01-01 00:18:07</td>\n      <td>0</td>\n      <td>1</td>\n      <td>1</td>\n      <td>2016</td>\n      <td>4</td>\n    </tr>\n    <tr>\n      <th>4</th>\n      <td>4</td>\n      <td>2016-01-01 00:33:04</td>\n      <td>0</td>\n      <td>1</td>\n      <td>1</td>\n      <td>2016</td>\n      <td>4</td>\n      <td>2016-01-01 00:47:14</td>\n      <td>0</td>\n      <td>1</td>\n      <td>1</td>\n      <td>2016</td>\n      <td>4</td>\n    </tr>\n  </tbody>\n</table>\n</div>",
      "text/plain": "   datetime_id tpep_pickup_datetime  pick_hour  pick_day  pick_month  \\\n0            0  2016-01-01 00:12:22          0         1           1   \n1            1  2016-01-01 00:41:31          0         1           1   \n2            2  2016-01-01 00:53:37          0         1           1   \n3            3  2016-01-01 00:13:28          0         1           1   \n4            4  2016-01-01 00:33:04          0         1           1   \n\n   pick_year  pick_weekday tpep_dropoff_datetime  drop_hour  drop_day  \\\n0       2016             4   2016-01-01 00:29:14          0         1   \n1       2016             4   2016-01-01 00:55:10          0         1   \n2       2016             4   2016-01-01 00:59:57          0         1   \n3       2016             4   2016-01-01 00:18:07          0         1   \n4       2016             4   2016-01-01 00:47:14          0         1   \n\n   drop_month  drop_year  drop_weekday  \n0           1       2016             4  \n1           1       2016             4  \n2           1       2016             4  \n3           1       2016             4  \n4           1       2016             4  "
     },
     "execution_count": 6,
     "metadata": {},
     "output_type": "execute_result"
    }
   ],
   "source": [
    "datetime_dim = df[['tpep_pickup_datetime', 'tpep_dropoff_datetime']].reset_index(drop = True)\n",
    "datetime_dim['tpep_pickup_datetime'] = datetime_dim['tpep_pickup_datetime']\n",
    "datetime_dim['pick_hour'] = datetime_dim['tpep_pickup_datetime'].dt.hour\n",
    "datetime_dim['pick_day'] = datetime_dim['tpep_pickup_datetime'].dt.day\n",
    "datetime_dim['pick_month'] = datetime_dim['tpep_pickup_datetime'].dt.month\n",
    "datetime_dim['pick_year'] = datetime_dim['tpep_pickup_datetime'].dt.year\n",
    "datetime_dim['pick_weekday'] = datetime_dim['tpep_pickup_datetime'].dt.weekday\n",
    "\n",
    "datetime_dim['tpep_dropoff_datetime'] = datetime_dim['tpep_dropoff_datetime']\n",
    "datetime_dim['drop_hour'] = datetime_dim['tpep_dropoff_datetime'].dt.hour\n",
    "datetime_dim['drop_day'] = datetime_dim['tpep_dropoff_datetime'].dt.day\n",
    "datetime_dim['drop_month'] = datetime_dim['tpep_dropoff_datetime'].dt.month\n",
    "datetime_dim['drop_year'] = datetime_dim['tpep_dropoff_datetime'].dt.year\n",
    "datetime_dim['drop_weekday'] = datetime_dim['tpep_dropoff_datetime'].dt.weekday\n",
    "\n",
    "datetime_dim['datetime_id'] = datetime_dim.index\n",
    "datetime_dim = datetime_dim[['datetime_id', 'tpep_pickup_datetime', 'pick_hour', 'pick_day', 'pick_month', 'pick_year', 'pick_weekday',\n",
    "                             'tpep_dropoff_datetime', 'drop_hour', 'drop_day', 'drop_month', 'drop_year', 'drop_weekday']]\n",
    "\n",
    "datetime_dim.head()"
   ]
  },
  {
   "cell_type": "code",
   "execution_count": 7,
   "metadata": {},
   "outputs": [],
   "source": [
    "passenger_count_dim = df[['passenger_count']].reset_index(drop=True)\n",
    "passenger_count_dim['passenger_count_id'] = passenger_count_dim.index\n",
    "passenger_count_dim = passenger_count_dim[['passenger_count_id','passenger_count']]\n",
    "\n",
    "trip_distance_dim = df[['trip_distance']].reset_index(drop=True)\n",
    "trip_distance_dim['trip_distance_id'] = trip_distance_dim.index\n",
    "trip_distance_dim = trip_distance_dim[['trip_distance_id','trip_distance']]"
   ]
  },
  {
   "cell_type": "code",
   "execution_count": 8,
   "metadata": {},
   "outputs": [],
   "source": [
    "rate_code_type = {\n",
    "    1:\"Standard rate\",\n",
    "    2:\"JFK\",\n",
    "    3:\"Newark\",\n",
    "    4:\"Nassau or Westchester\",\n",
    "    5:\"Negotiated fare\",\n",
    "    6:\"Group ride\"\n",
    "}\n",
    "\n",
    "rate_code_dim = df[['RatecodeID']].reset_index(drop=True)\n",
    "rate_code_dim['rate_code_id'] = rate_code_dim.index\n",
    "rate_code_dim['rate_code_name'] = rate_code_dim['RatecodeID'].map(rate_code_type)\n",
    "rate_code_dim = rate_code_dim[['rate_code_id','RatecodeID','rate_code_name']]"
   ]
  },
  {
   "cell_type": "code",
   "execution_count": 9,
   "metadata": {},
   "outputs": [],
   "source": [
    "payment_type_name = {\n",
    "    1:\"Credit card\",\n",
    "    2:\"Cash\",\n",
    "    3:\"No charge\",\n",
    "    4:\"Dispute\",\n",
    "    5:\"Unknown\",\n",
    "    6:\"Voided trip\"\n",
    "}\n",
    "payment_type_dim = df[['payment_type']].reset_index(drop=True)\n",
    "payment_type_dim['payment_type_id'] = payment_type_dim.index\n",
    "payment_type_dim['payment_type_name'] = payment_type_dim['payment_type'].map(payment_type_name)\n",
    "payment_type_dim = payment_type_dim[['payment_type_id','payment_type','payment_type_name']]"
   ]
  },
  {
   "cell_type": "code",
   "execution_count": 10,
   "metadata": {},
   "outputs": [
    {
     "data": {
      "text/html": "<div>\n<style scoped>\n    .dataframe tbody tr th:only-of-type {\n        vertical-align: middle;\n    }\n\n    .dataframe tbody tr th {\n        vertical-align: top;\n    }\n\n    .dataframe thead th {\n        text-align: right;\n    }\n</style>\n<table border=\"1\" class=\"dataframe\">\n  <thead>\n    <tr style=\"text-align: right;\">\n      <th></th>\n      <th>LocationID</th>\n      <th>Borough</th>\n      <th>Zone</th>\n      <th>service_zone</th>\n    </tr>\n  </thead>\n  <tbody>\n    <tr>\n      <th>0</th>\n      <td>1</td>\n      <td>EWR</td>\n      <td>Newark Airport</td>\n      <td>EWR</td>\n    </tr>\n    <tr>\n      <th>1</th>\n      <td>2</td>\n      <td>Queens</td>\n      <td>Jamaica Bay</td>\n      <td>Boro Zone</td>\n    </tr>\n    <tr>\n      <th>2</th>\n      <td>3</td>\n      <td>Bronx</td>\n      <td>Allerton/Pelham Gardens</td>\n      <td>Boro Zone</td>\n    </tr>\n    <tr>\n      <th>3</th>\n      <td>4</td>\n      <td>Manhattan</td>\n      <td>Alphabet City</td>\n      <td>Yellow Zone</td>\n    </tr>\n    <tr>\n      <th>4</th>\n      <td>5</td>\n      <td>Staten Island</td>\n      <td>Arden Heights</td>\n      <td>Boro Zone</td>\n    </tr>\n    <tr>\n      <th>...</th>\n      <td>...</td>\n      <td>...</td>\n      <td>...</td>\n      <td>...</td>\n    </tr>\n    <tr>\n      <th>260</th>\n      <td>261</td>\n      <td>Manhattan</td>\n      <td>World Trade Center</td>\n      <td>Yellow Zone</td>\n    </tr>\n    <tr>\n      <th>261</th>\n      <td>262</td>\n      <td>Manhattan</td>\n      <td>Yorkville East</td>\n      <td>Yellow Zone</td>\n    </tr>\n    <tr>\n      <th>262</th>\n      <td>263</td>\n      <td>Manhattan</td>\n      <td>Yorkville West</td>\n      <td>Yellow Zone</td>\n    </tr>\n    <tr>\n      <th>263</th>\n      <td>264</td>\n      <td>Unknown</td>\n      <td>NV</td>\n      <td>NaN</td>\n    </tr>\n    <tr>\n      <th>264</th>\n      <td>265</td>\n      <td>Unknown</td>\n      <td>NaN</td>\n      <td>NaN</td>\n    </tr>\n  </tbody>\n</table>\n<p>265 rows × 4 columns</p>\n</div>",
      "text/plain": "     LocationID        Borough                     Zone service_zone\n0             1            EWR           Newark Airport          EWR\n1             2         Queens              Jamaica Bay    Boro Zone\n2             3          Bronx  Allerton/Pelham Gardens    Boro Zone\n3             4      Manhattan            Alphabet City  Yellow Zone\n4             5  Staten Island            Arden Heights    Boro Zone\n..          ...            ...                      ...          ...\n260         261      Manhattan       World Trade Center  Yellow Zone\n261         262      Manhattan           Yorkville East  Yellow Zone\n262         263      Manhattan           Yorkville West  Yellow Zone\n263         264        Unknown                       NV          NaN\n264         265        Unknown                      NaN          NaN\n\n[265 rows x 4 columns]"
     },
     "execution_count": 10,
     "metadata": {},
     "output_type": "execute_result"
    }
   ],
   "source": [
    "location_lookup = pd.read_csv('./data/taxi_zone_lookup.csv')\n",
    "location_lookup"
   ]
  },
  {
   "cell_type": "code",
   "execution_count": 11,
   "metadata": {},
   "outputs": [],
   "source": [
    "location_dim = df[['PULocationID', 'DOLocationID']].reset_index(drop = True)\n",
    "location_dim['Location_id'] = location_dim.index"
   ]
  },
  {
   "cell_type": "code",
   "execution_count": 12,
   "metadata": {},
   "outputs": [],
   "source": [
    "merge_df = location_dim.merge(location_lookup, left_on='PULocationID', right_on='LocationID', how='inner')\n",
    "merge_df.columns = ['PULocationID','DOLocationID','Location_id','LocationID','PU_Borough', 'PU_Zone', 'PU_service_zone']\n",
    "merge_df = merge_df.merge(merge_df, left_on='DOLocationID', right_on='LocationID', how='inner')\n",
    "merge_df"
   ]
  },
  {
   "cell_type": "code",
   "execution_count": null,
   "metadata": {},
   "outputs": [
    {
     "ename": "Error",
     "evalue": "Session cannot generate requests",
     "output_type": "error",
     "traceback": [
      "Error: Session cannot generate requests",
      "at w.executeCodeCell (/Users/tonghuang/.vscode/extensions/ms-toolsai.jupyter-2021.6.832593372/out/client/extension.js:90:316184)",
      "at w.execute (/Users/tonghuang/.vscode/extensions/ms-toolsai.jupyter-2021.6.832593372/out/client/extension.js:90:315573)",
      "at w.start (/Users/tonghuang/.vscode/extensions/ms-toolsai.jupyter-2021.6.832593372/out/client/extension.js:90:311378)",
      "at runMicrotasks (<anonymous>)",
      "at processTicksAndRejections (internal/process/task_queues.js:93:5)",
      "at async t.CellExecutionQueue.executeQueuedCells (/Users/tonghuang/.vscode/extensions/ms-toolsai.jupyter-2021.6.832593372/out/client/extension.js:90:325786)",
      "at async t.CellExecutionQueue.start (/Users/tonghuang/.vscode/extensions/ms-toolsai.jupyter-2021.6.832593372/out/client/extension.js:90:325326)"
     ]
    }
   ],
   "source": [
    "merge_df"
   ]
  },
  {
   "cell_type": "code",
   "execution_count": null,
   "metadata": {},
   "outputs": [
    {
     "ename": "Error",
     "evalue": "Session cannot generate requests",
     "output_type": "error",
     "traceback": [
      "Error: Session cannot generate requests",
      "at w.executeCodeCell (/Users/tonghuang/.vscode/extensions/ms-toolsai.jupyter-2021.6.832593372/out/client/extension.js:90:316184)",
      "at w.execute (/Users/tonghuang/.vscode/extensions/ms-toolsai.jupyter-2021.6.832593372/out/client/extension.js:90:315573)",
      "at w.start (/Users/tonghuang/.vscode/extensions/ms-toolsai.jupyter-2021.6.832593372/out/client/extension.js:90:311378)",
      "at runMicrotasks (<anonymous>)",
      "at processTicksAndRejections (internal/process/task_queues.js:93:5)",
      "at async t.CellExecutionQueue.executeQueuedCells (/Users/tonghuang/.vscode/extensions/ms-toolsai.jupyter-2021.6.832593372/out/client/extension.js:90:325786)",
      "at async t.CellExecutionQueue.start (/Users/tonghuang/.vscode/extensions/ms-toolsai.jupyter-2021.6.832593372/out/client/extension.js:90:325326)"
     ]
    }
   ],
   "source": [
    "fact_table = df.merge(passenger_count_dim, left_on='trip_id', right_on='passenger_count_id') \\\n",
    "             .merge(trip_distance_dim, left_on='trip_id', right_on='trip_distance_id') \\\n",
    "             .merge(rate_code_dim, left_on='trip_id', right_on='rate_code_id') \\\n",
    "             .merge(datetime_dim, left_on='trip_id', right_on='datetime_id') \\\n",
    "             .merge(payment_type_dim, left_on='trip_id', right_on='payment_type_id') \\\n",
    "             [['trip_id','VendorID', 'datetime_id', 'passenger_count_id',\n",
    "               'trip_distance_id', 'rate_code_id', 'store_and_fwd_flag',\n",
    "               'payment_type_id', 'fare_amount', 'extra', 'mta_tax', 'tip_amount', 'tolls_amount',\n",
    "               'improvement_surcharge', 'total_amount']]"
   ]
  },
  {
   "cell_type": "code",
   "execution_count": null,
   "metadata": {},
   "outputs": [
    {
     "data": {
      "text/html": "<div>\n<style scoped>\n    .dataframe tbody tr th:only-of-type {\n        vertical-align: middle;\n    }\n\n    .dataframe tbody tr th {\n        vertical-align: top;\n    }\n\n    .dataframe thead th {\n        text-align: right;\n    }\n</style>\n<table border=\"1\" class=\"dataframe\">\n  <thead>\n    <tr style=\"text-align: right;\">\n      <th></th>\n      <th>trip_id</th>\n      <th>VendorID</th>\n      <th>datetime_id</th>\n      <th>passenger_count_id</th>\n      <th>trip_distance_id</th>\n      <th>rate_code_id</th>\n      <th>store_and_fwd_flag</th>\n      <th>payment_type_id</th>\n      <th>fare_amount</th>\n      <th>extra</th>\n      <th>mta_tax</th>\n      <th>tip_amount</th>\n      <th>tolls_amount</th>\n      <th>improvement_surcharge</th>\n      <th>total_amount</th>\n    </tr>\n  </thead>\n  <tbody>\n    <tr>\n      <th>0</th>\n      <td>0</td>\n      <td>1</td>\n      <td>0</td>\n      <td>0</td>\n      <td>0</td>\n      <td>0</td>\n      <td>N</td>\n      <td>0</td>\n      <td>14.50</td>\n      <td>3.0</td>\n      <td>0.5</td>\n      <td>3.65</td>\n      <td>0.0</td>\n      <td>0.3</td>\n      <td>21.95</td>\n    </tr>\n    <tr>\n      <th>1</th>\n      <td>1</td>\n      <td>1</td>\n      <td>1</td>\n      <td>1</td>\n      <td>1</td>\n      <td>1</td>\n      <td>N</td>\n      <td>1</td>\n      <td>8.00</td>\n      <td>0.5</td>\n      <td>0.5</td>\n      <td>4.00</td>\n      <td>0.0</td>\n      <td>0.3</td>\n      <td>13.30</td>\n    </tr>\n    <tr>\n      <th>2</th>\n      <td>2</td>\n      <td>2</td>\n      <td>2</td>\n      <td>2</td>\n      <td>2</td>\n      <td>2</td>\n      <td>N</td>\n      <td>2</td>\n      <td>7.50</td>\n      <td>0.5</td>\n      <td>0.5</td>\n      <td>1.76</td>\n      <td>0.0</td>\n      <td>0.3</td>\n      <td>10.56</td>\n    </tr>\n    <tr>\n      <th>3</th>\n      <td>3</td>\n      <td>2</td>\n      <td>3</td>\n      <td>3</td>\n      <td>3</td>\n      <td>3</td>\n      <td>N</td>\n      <td>3</td>\n      <td>8.00</td>\n      <td>0.5</td>\n      <td>0.5</td>\n      <td>0.00</td>\n      <td>0.0</td>\n      <td>0.3</td>\n      <td>11.80</td>\n    </tr>\n    <tr>\n      <th>4</th>\n      <td>4</td>\n      <td>2</td>\n      <td>4</td>\n      <td>4</td>\n      <td>4</td>\n      <td>4</td>\n      <td>N</td>\n      <td>4</td>\n      <td>23.50</td>\n      <td>0.5</td>\n      <td>0.5</td>\n      <td>3.00</td>\n      <td>0.0</td>\n      <td>0.3</td>\n      <td>30.30</td>\n    </tr>\n    <tr>\n      <th>...</th>\n      <td>...</td>\n      <td>...</td>\n      <td>...</td>\n      <td>...</td>\n      <td>...</td>\n      <td>...</td>\n      <td>...</td>\n      <td>...</td>\n      <td>...</td>\n      <td>...</td>\n      <td>...</td>\n      <td>...</td>\n      <td>...</td>\n      <td>...</td>\n      <td>...</td>\n    </tr>\n    <tr>\n      <th>2463926</th>\n      <td>2463926</td>\n      <td>2</td>\n      <td>2463926</td>\n      <td>2463926</td>\n      <td>2463926</td>\n      <td>2463926</td>\n      <td>None</td>\n      <td>2463926</td>\n      <td>8.00</td>\n      <td>0.0</td>\n      <td>0.5</td>\n      <td>2.39</td>\n      <td>0.0</td>\n      <td>0.3</td>\n      <td>13.69</td>\n    </tr>\n    <tr>\n      <th>2463927</th>\n      <td>2463927</td>\n      <td>2</td>\n      <td>2463927</td>\n      <td>2463927</td>\n      <td>2463927</td>\n      <td>2463927</td>\n      <td>None</td>\n      <td>2463927</td>\n      <td>16.80</td>\n      <td>0.0</td>\n      <td>0.5</td>\n      <td>4.35</td>\n      <td>0.0</td>\n      <td>0.3</td>\n      <td>24.45</td>\n    </tr>\n    <tr>\n      <th>2463928</th>\n      <td>2463928</td>\n      <td>2</td>\n      <td>2463928</td>\n      <td>2463928</td>\n      <td>2463928</td>\n      <td>2463928</td>\n      <td>None</td>\n      <td>2463928</td>\n      <td>11.22</td>\n      <td>0.0</td>\n      <td>0.5</td>\n      <td>2.00</td>\n      <td>0.0</td>\n      <td>0.3</td>\n      <td>16.52</td>\n    </tr>\n    <tr>\n      <th>2463929</th>\n      <td>2463929</td>\n      <td>2</td>\n      <td>2463929</td>\n      <td>2463929</td>\n      <td>2463929</td>\n      <td>2463929</td>\n      <td>None</td>\n      <td>2463929</td>\n      <td>12.40</td>\n      <td>0.0</td>\n      <td>0.5</td>\n      <td>0.00</td>\n      <td>0.0</td>\n      <td>0.3</td>\n      <td>15.70</td>\n    </tr>\n    <tr>\n      <th>2463930</th>\n      <td>2463930</td>\n      <td>2</td>\n      <td>2463930</td>\n      <td>2463930</td>\n      <td>2463930</td>\n      <td>2463930</td>\n      <td>None</td>\n      <td>2463930</td>\n      <td>25.48</td>\n      <td>0.0</td>\n      <td>0.5</td>\n      <td>6.28</td>\n      <td>0.0</td>\n      <td>0.3</td>\n      <td>35.06</td>\n    </tr>\n  </tbody>\n</table>\n<p>2463931 rows × 15 columns</p>\n</div>",
      "text/plain": "         trip_id  VendorID  datetime_id  passenger_count_id  trip_distance_id  \\\n0              0         1            0                   0                 0   \n1              1         1            1                   1                 1   \n2              2         2            2                   2                 2   \n3              3         2            3                   3                 3   \n4              4         2            4                   4                 4   \n...          ...       ...          ...                 ...               ...   \n2463926  2463926         2      2463926             2463926           2463926   \n2463927  2463927         2      2463927             2463927           2463927   \n2463928  2463928         2      2463928             2463928           2463928   \n2463929  2463929         2      2463929             2463929           2463929   \n2463930  2463930         2      2463930             2463930           2463930   \n\n         rate_code_id store_and_fwd_flag  payment_type_id  fare_amount  extra  \\\n0                   0                  N                0        14.50    3.0   \n1                   1                  N                1         8.00    0.5   \n2                   2                  N                2         7.50    0.5   \n3                   3                  N                3         8.00    0.5   \n4                   4                  N                4        23.50    0.5   \n...               ...                ...              ...          ...    ...   \n2463926       2463926               None          2463926         8.00    0.0   \n2463927       2463927               None          2463927        16.80    0.0   \n2463928       2463928               None          2463928        11.22    0.0   \n2463929       2463929               None          2463929        12.40    0.0   \n2463930       2463930               None          2463930        25.48    0.0   \n\n         mta_tax  tip_amount  tolls_amount  improvement_surcharge  \\\n0            0.5        3.65           0.0                    0.3   \n1            0.5        4.00           0.0                    0.3   \n2            0.5        1.76           0.0                    0.3   \n3            0.5        0.00           0.0                    0.3   \n4            0.5        3.00           0.0                    0.3   \n...          ...         ...           ...                    ...   \n2463926      0.5        2.39           0.0                    0.3   \n2463927      0.5        4.35           0.0                    0.3   \n2463928      0.5        2.00           0.0                    0.3   \n2463929      0.5        0.00           0.0                    0.3   \n2463930      0.5        6.28           0.0                    0.3   \n\n         total_amount  \n0               21.95  \n1               13.30  \n2               10.56  \n3               11.80  \n4               30.30  \n...               ...  \n2463926         13.69  \n2463927         24.45  \n2463928         16.52  \n2463929         15.70  \n2463930         35.06  \n\n[2463931 rows x 15 columns]"
     },
     "execution_count": 50,
     "metadata": {},
     "output_type": "execute_result"
    }
   ],
   "source": [
    "fact_table"
   ]
  },
  {
   "cell_type": "code",
   "execution_count": 14,
   "metadata": {},
   "outputs": [
    {
     "data": {
      "image/png": "[encoded data removed]",
      "text/plain": "<Figure size 640x480 with 1 Axes>"
     },
     "metadata": {},
     "output_type": "display_data"
    }
   ],
   "source": [
    "account = 0\n",
    "income = 4500\n",
    "percent = 0.1\n",
    "years_working = 37\n",
    "months_working = years_working*12\n",
    "n_cashf = months_working*2\n",
    "account += income*percent\n",
    "r = 0.09\n",
    "account = np.zeros(n_cashf)\n",
    "account[0] = income*percent\n",
    "for i in range(1, n_cashf):\n",
    "    account[i] = account[i-1]*(1+r/24) + income*percent\n",
    "\n",
    "import numpy as np\n",
    "import matplotlib.pyplot as plt\n",
    "x = np.arange(1, n_cashf+1/2, 1)\n",
    "plt.plot(x, account)\n",
    "plt.show()"
   ]
  },
  {
   "cell_type": "code",
   "execution_count": 5,
   "metadata": {},
   "outputs": [
    {
     "name": "stdout",
     "output_type": "stream",
     "text": [
      "399150.0\n"
     ]
    }
   ],
   "source": [
    "account = 0\n",
    "for i in range(n_cashf-1):\n",
    "    account += income*percent\n",
    "print(account)"
   ]
  },
  {
   "cell_type": "code",
   "execution_count": 7,
   "metadata": {},
   "outputs": [
    {
     "name": "stdout",
     "output_type": "stream",
     "text": [
      "0.00375\n"
     ]
    }
   ],
   "source": [
    "print(r/24)"
   ]
  },
  {
   "cell_type": "code",
   "execution_count": null,
   "metadata": {},
   "outputs": [],
   "source": []
  }
 ],
 "metadata": {
  "kernelspec": {
   "display_name": "Python 3.11.7 64-bit",
   "name": "python3117jvsc74a57bd061144442c5bba5d28851d4d88bd107affeefd4f9a3e21babceae053099746efa"
  },
  "language_info": {
   "codemirror_mode": {
    "name": "ipython",
    "version": 3
   },
   "file_extension": ".py",
   "mimetype": "text/x-python",
   "name": "python",
   "nbconvert_exporter": "python",
   "pygments_lexer": "ipython3",
   "version": "3.11.7"
  },
  "orig_nbformat": 2
 },
 "nbformat": 4,
 "nbformat_minor": 2
}