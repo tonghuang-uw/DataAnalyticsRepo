{
 "cells": [
  {
   "cell_type": "code",
   "execution_count": 1,
   "metadata": {},
   "outputs": [],
   "source": [
    "import warnings\n",
    "warnings.filterwarnings('ignore')"
   ]
  },
  {
   "cell_type": "code",
   "execution_count": 61,
   "metadata": {},
   "outputs": [],
   "source": [
    "from datetime import datetime\n",
    "import pandas as pd\n",
    "import pandas_datareader.data as web\n",
    "\n",
    "# replaces pyfinance.ols.PandasRollingOLS (no longer maintained)\n",
    "from statsmodels.regression.rolling import RollingOLS\n",
    "import statsmodels.api as sm\n",
    "\n",
    "import matplotlib.pyplot as plt\n",
    "import seaborn as sns"
   ]
  },
  {
   "cell_type": "code",
   "execution_count": 4,
   "metadata": {},
   "outputs": [],
   "source": [
    "sns.set_style('whitegrid')\n",
    "idx = pd.IndexSlice"
   ]
  },
  {
   "cell_type": "markdown",
   "metadata": {},
   "source": [
    "# Get data"
   ]
  },
  {
   "cell_type": "code",
   "execution_count": 8,
   "metadata": {},
   "outputs": [],
   "source": [
    "DATA_STORE = '../Data/assets.h5'"
   ]
  },
  {
   "cell_type": "code",
   "execution_count": 6,
   "metadata": {},
   "outputs": [],
   "source": [
    "Start = 2000\n",
    "End = 2018"
   ]
  },
  {
   "cell_type": "code",
   "execution_count": 9,
   "metadata": {},
   "outputs": [],
   "source": [
    "with pd.HDFStore(DATA_STORE) as store:\n",
    "    price = (store['quandl/wiki/prices']\n",
    "            .loc[idx[str(Start):str(End),:], 'adj_close']\n",
    "            .unstack('ticker'))\n",
    "    stocks = store['us_equities/stocks'].loc[:, ['marketcap', 'ipoyear', 'sector']]"
   ]
  },
  {
   "cell_type": "code",
   "execution_count": 11,
   "metadata": {},
   "outputs": [
    {
     "name": "stdout",
     "output_type": "stream",
     "text": [
      "<class 'pandas.core.frame.DataFrame'>\n",
      "DatetimeIndex: 4706 entries, 2000-01-03 to 2018-03-27\n",
      "Columns: 3199 entries, A to ZUMZ\n",
      "dtypes: float64(3199)\n",
      "memory usage: 114.9 MB\n"
     ]
    }
   ],
   "source": [
    "price.info()"
   ]
  },
  {
   "cell_type": "code",
   "execution_count": 13,
   "metadata": {},
   "outputs": [
    {
     "name": "stdout",
     "output_type": "stream",
     "text": [
      "<class 'pandas.core.frame.DataFrame'>\n",
      "Index: 6834 entries, PIH to ZYME\n",
      "Data columns (total 3 columns):\n",
      " #   Column     Non-Null Count  Dtype  \n",
      "---  ------     --------------  -----  \n",
      " 0   marketcap  5766 non-null   float64\n",
      " 1   ipoyear    3038 non-null   float64\n",
      " 2   sector     5288 non-null   object \n",
      "dtypes: float64(2), object(1)\n",
      "memory usage: 213.6+ KB\n"
     ]
    }
   ],
   "source": [
    "stocks.info()"
   ]
  },
  {
   "cell_type": "code",
   "execution_count": 16,
   "metadata": {},
   "outputs": [
    {
     "name": "stdout",
     "output_type": "stream",
     "text": [
      "<class 'pandas.core.frame.DataFrame'>\n",
      "Index: 2412 entries, A to ZUMZ\n",
      "Data columns (total 3 columns):\n",
      " #   Column     Non-Null Count  Dtype  \n",
      "---  ------     --------------  -----  \n",
      " 0   marketcap  2407 non-null   float64\n",
      " 1   ipoyear    1065 non-null   float64\n",
      " 2   sector     2372 non-null   object \n",
      "dtypes: float64(2), object(1)\n",
      "memory usage: 75.4+ KB\n"
     ]
    }
   ],
   "source": [
    "stocks = stocks[~stocks.index.duplicated()]\n",
    "stocks.index.name = 'ticker'\n",
    "shared = price.columns.intersection(stocks.index)\n",
    "stocks = stocks.loc[shared, :]\n",
    "stocks.info()"
   ]
  },
  {
   "cell_type": "code",
   "execution_count": 18,
   "metadata": {},
   "outputs": [
    {
     "name": "stdout",
     "output_type": "stream",
     "text": [
      "<class 'pandas.core.frame.DataFrame'>\n",
      "DatetimeIndex: 4706 entries, 2000-01-03 to 2018-03-27\n",
      "Columns: 2412 entries, A to ZUMZ\n",
      "dtypes: float64(2412)\n",
      "memory usage: 86.6 MB\n"
     ]
    }
   ],
   "source": [
    "prices = price.loc[:, shared]\n",
    "prices.info()"
   ]
  },
  {
   "cell_type": "code",
   "execution_count": 20,
   "metadata": {},
   "outputs": [],
   "source": [
    "assert prices.shape[1] == stocks.shape[0]"
   ]
  },
  {
   "cell_type": "markdown",
   "metadata": {},
   "source": [
    "# Monthly data"
   ]
  },
  {
   "cell_type": "code",
   "execution_count": 26,
   "metadata": {},
   "outputs": [
    {
     "name": "stdout",
     "output_type": "stream",
     "text": [
      "<class 'pandas.core.frame.DataFrame'>\n",
      "DatetimeIndex: 219 entries, 2000-01-31 to 2018-03-31\n",
      "Freq: M\n",
      "Columns: 2412 entries, A to ZUMZ\n",
      "dtypes: float64(2412)\n",
      "memory usage: 4.0 MB\n"
     ]
    }
   ],
   "source": [
    "monthly_prices = prices.resample('M').last()\n",
    "monthly_prices.info()"
   ]
  },
  {
   "cell_type": "code",
   "execution_count": 38,
   "metadata": {},
   "outputs": [],
   "source": [
    "outlier_cutoff = 0.01\n",
    "data = pd.DataFrame()\n",
    "lags = [1, 2, 3, 6, 9, 12]\n",
    "\n",
    "for lag in lags:\n",
    "    data[f'return_{lag}m'] = (monthly_prices\n",
    "                            .pct_change(lag)\n",
    "                            .stack()\n",
    "                            .pipe(lambda x: x.clip(lower=x.quantile(outlier_cutoff),\n",
    "                                                  upper=x.quantile(1-outlier_cutoff)))\n",
    "                            .add(1)\n",
    "                            .pow(1/lag)\n",
    "                            .sub(1))\n",
    "data = data.swaplevel().dropna()"
   ]
  },
  {
   "cell_type": "code",
   "execution_count": 39,
   "metadata": {},
   "outputs": [
    {
     "data": {
      "text/html": "<div>\n<style scoped>\n    .dataframe tbody tr th:only-of-type {\n        vertical-align: middle;\n    }\n\n    .dataframe tbody tr th {\n        vertical-align: top;\n    }\n\n    .dataframe thead th {\n        text-align: right;\n    }\n</style>\n<table border=\"1\" class=\"dataframe\">\n  <thead>\n    <tr style=\"text-align: right;\">\n      <th></th>\n      <th></th>\n      <th>return_1m</th>\n      <th>return_2m</th>\n      <th>return_3m</th>\n      <th>return_6m</th>\n      <th>return_9m</th>\n      <th>return_12m</th>\n    </tr>\n    <tr>\n      <th>ticker</th>\n      <th>date</th>\n      <th></th>\n      <th></th>\n      <th></th>\n      <th></th>\n      <th></th>\n      <th></th>\n    </tr>\n  </thead>\n  <tbody>\n    <tr>\n      <th>A</th>\n      <th>2001-01-31</th>\n      <td>-0.003653</td>\n      <td>0.022360</td>\n      <td>0.056104</td>\n      <td>0.049811</td>\n      <td>-0.052500</td>\n      <td>-0.015988</td>\n    </tr>\n    <tr>\n      <th>AAN</th>\n      <th>2001-01-31</th>\n      <td>0.116071</td>\n      <td>0.008439</td>\n      <td>-0.015687</td>\n      <td>-0.009856</td>\n      <td>-0.002912</td>\n      <td>-0.009572</td>\n    </tr>\n    <tr>\n      <th>AAON</th>\n      <th>2001-01-31</th>\n      <td>0.300170</td>\n      <td>0.034296</td>\n      <td>0.028670</td>\n      <td>-0.006238</td>\n      <td>0.010159</td>\n      <td>0.031027</td>\n    </tr>\n    <tr>\n      <th>AAPL</th>\n      <th>2001-01-31</th>\n      <td>0.430943</td>\n      <td>0.144685</td>\n      <td>0.033941</td>\n      <td>-0.132736</td>\n      <td>-0.110514</td>\n      <td>-0.070339</td>\n    </tr>\n    <tr>\n      <th>ABAX</th>\n      <th>2001-01-31</th>\n      <td>-0.073762</td>\n      <td>-0.042573</td>\n      <td>-0.044914</td>\n      <td>-0.003738</td>\n      <td>-0.028353</td>\n      <td>-0.031993</td>\n    </tr>\n  </tbody>\n</table>\n</div>",
      "text/plain": "                   return_1m  return_2m  return_3m  return_6m  return_9m  \\\nticker date                                                                \nA      2001-01-31  -0.003653   0.022360   0.056104   0.049811  -0.052500   \nAAN    2001-01-31   0.116071   0.008439  -0.015687  -0.009856  -0.002912   \nAAON   2001-01-31   0.300170   0.034296   0.028670  -0.006238   0.010159   \nAAPL   2001-01-31   0.430943   0.144685   0.033941  -0.132736  -0.110514   \nABAX   2001-01-31  -0.073762  -0.042573  -0.044914  -0.003738  -0.028353   \n\n                   return_12m  \nticker date                    \nA      2001-01-31   -0.015988  \nAAN    2001-01-31   -0.009572  \nAAON   2001-01-31    0.031027  \nAAPL   2001-01-31   -0.070339  \nABAX   2001-01-31   -0.031993  "
     },
     "execution_count": 39,
     "metadata": {},
     "output_type": "execute_result"
    }
   ],
   "source": [
    "data.head()"
   ]
  },
  {
   "cell_type": "markdown",
   "metadata": {},
   "source": [
    "Drop stocks with less than 10 yrs of return"
   ]
  },
  {
   "cell_type": "code",
   "execution_count": 42,
   "metadata": {},
   "outputs": [
    {
     "name": "stdout",
     "output_type": "stream",
     "text": [
      "<class 'pandas.core.frame.DataFrame'>\n",
      "MultiIndex: 360752 entries, ('A', Timestamp('2001-01-31 00:00:00')) to ('ZUMZ', Timestamp('2018-03-31 00:00:00'))\n",
      "Data columns (total 6 columns):\n",
      " #   Column      Non-Null Count   Dtype  \n",
      "---  ------      --------------   -----  \n",
      " 0   return_1m   360752 non-null  float64\n",
      " 1   return_2m   360752 non-null  float64\n",
      " 2   return_3m   360752 non-null  float64\n",
      " 3   return_6m   360752 non-null  float64\n",
      " 4   return_9m   360752 non-null  float64\n",
      " 5   return_12m  360752 non-null  float64\n",
      "dtypes: float64(6)\n",
      "memory usage: 18.0+ MB\n"
     ]
    }
   ],
   "source": [
    "min_obs = 120\n",
    "nobs = data.groupby(level='ticker').size()\n",
    "keep = nobs[nobs>min_obs].index\n",
    "data = data.loc[idx[keep,:], :]\n",
    "data.info()"
   ]
  },
  {
   "cell_type": "code",
   "execution_count": 43,
   "metadata": {},
   "outputs": [
    {
     "data": {
      "text/html": "<div>\n<style scoped>\n    .dataframe tbody tr th:only-of-type {\n        vertical-align: middle;\n    }\n\n    .dataframe tbody tr th {\n        vertical-align: top;\n    }\n\n    .dataframe thead th {\n        text-align: right;\n    }\n</style>\n<table border=\"1\" class=\"dataframe\">\n  <thead>\n    <tr style=\"text-align: right;\">\n      <th></th>\n      <th>return_1m</th>\n      <th>return_2m</th>\n      <th>return_3m</th>\n      <th>return_6m</th>\n      <th>return_9m</th>\n      <th>return_12m</th>\n    </tr>\n  </thead>\n  <tbody>\n    <tr>\n      <th>count</th>\n      <td>360752.000000</td>\n      <td>360752.000000</td>\n      <td>360752.000000</td>\n      <td>360752.000000</td>\n      <td>360752.000000</td>\n      <td>360752.000000</td>\n    </tr>\n    <tr>\n      <th>mean</th>\n      <td>0.012255</td>\n      <td>0.009213</td>\n      <td>0.008181</td>\n      <td>0.007025</td>\n      <td>0.006552</td>\n      <td>0.006296</td>\n    </tr>\n    <tr>\n      <th>std</th>\n      <td>0.114236</td>\n      <td>0.081170</td>\n      <td>0.066584</td>\n      <td>0.048474</td>\n      <td>0.039897</td>\n      <td>0.034792</td>\n    </tr>\n    <tr>\n      <th>min</th>\n      <td>-0.329564</td>\n      <td>-0.255452</td>\n      <td>-0.214783</td>\n      <td>-0.162063</td>\n      <td>-0.131996</td>\n      <td>-0.114283</td>\n    </tr>\n    <tr>\n      <th>25%</th>\n      <td>-0.046464</td>\n      <td>-0.030716</td>\n      <td>-0.023961</td>\n      <td>-0.014922</td>\n      <td>-0.011182</td>\n      <td>-0.009064</td>\n    </tr>\n    <tr>\n      <th>50%</th>\n      <td>0.009448</td>\n      <td>0.009748</td>\n      <td>0.009744</td>\n      <td>0.009378</td>\n      <td>0.008982</td>\n      <td>0.008726</td>\n    </tr>\n    <tr>\n      <th>75%</th>\n      <td>0.066000</td>\n      <td>0.049249</td>\n      <td>0.042069</td>\n      <td>0.031971</td>\n      <td>0.027183</td>\n      <td>0.024615</td>\n    </tr>\n    <tr>\n      <th>max</th>\n      <td>0.430943</td>\n      <td>0.281819</td>\n      <td>0.221789</td>\n      <td>0.154555</td>\n      <td>0.124718</td>\n      <td>0.106371</td>\n    </tr>\n  </tbody>\n</table>\n</div>",
      "text/plain": "           return_1m      return_2m      return_3m      return_6m  \\\ncount  360752.000000  360752.000000  360752.000000  360752.000000   \nmean        0.012255       0.009213       0.008181       0.007025   \nstd         0.114236       0.081170       0.066584       0.048474   \nmin        -0.329564      -0.255452      -0.214783      -0.162063   \n25%        -0.046464      -0.030716      -0.023961      -0.014922   \n50%         0.009448       0.009748       0.009744       0.009378   \n75%         0.066000       0.049249       0.042069       0.031971   \nmax         0.430943       0.281819       0.221789       0.154555   \n\n           return_9m     return_12m  \ncount  360752.000000  360752.000000  \nmean        0.006552       0.006296  \nstd         0.039897       0.034792  \nmin        -0.131996      -0.114283  \n25%        -0.011182      -0.009064  \n50%         0.008982       0.008726  \n75%         0.027183       0.024615  \nmax         0.124718       0.106371  "
     },
     "execution_count": 43,
     "metadata": {},
     "output_type": "execute_result"
    }
   ],
   "source": [
    "data.describe()"
   ]
  },
  {
   "cell_type": "code",
   "execution_count": 48,
   "metadata": {},
   "outputs": [
    {
     "data": {
      "text/html": "<div>\n<style scoped>\n    .dataframe tbody tr th:only-of-type {\n        vertical-align: middle;\n    }\n\n    .dataframe tbody tr th {\n        vertical-align: top;\n    }\n\n    .dataframe thead th {\n        text-align: right;\n    }\n</style>\n<table border=\"1\" class=\"dataframe\">\n  <thead>\n    <tr style=\"text-align: right;\">\n      <th></th>\n      <th></th>\n      <th>return_1m</th>\n      <th>return_2m</th>\n      <th>return_3m</th>\n      <th>return_6m</th>\n      <th>return_9m</th>\n      <th>return_12m</th>\n    </tr>\n    <tr>\n      <th>ticker</th>\n      <th>date</th>\n      <th></th>\n      <th></th>\n      <th></th>\n      <th></th>\n      <th></th>\n      <th></th>\n    </tr>\n  </thead>\n  <tbody>\n    <tr>\n      <th rowspan=\"5\" valign=\"top\">A</th>\n      <th>2001-01-31</th>\n      <td>-0.003653</td>\n      <td>0.022360</td>\n      <td>0.056104</td>\n      <td>0.049811</td>\n      <td>-0.052500</td>\n      <td>-0.015988</td>\n    </tr>\n    <tr>\n      <th>2001-02-28</th>\n      <td>-0.329564</td>\n      <td>-0.189115</td>\n      <td>-0.116435</td>\n      <td>-0.084141</td>\n      <td>-0.076425</td>\n      <td>-0.084537</td>\n    </tr>\n    <tr>\n      <th>2001-03-31</th>\n      <td>-0.146389</td>\n      <td>-0.249443</td>\n      <td>-0.175116</td>\n      <td>-0.074628</td>\n      <td>-0.092690</td>\n      <td>-0.096606</td>\n    </tr>\n    <tr>\n      <th>2001-04-30</th>\n      <td>0.269444</td>\n      <td>0.040966</td>\n      <td>-0.105747</td>\n      <td>-0.028185</td>\n      <td>-0.004837</td>\n      <td>-0.066102</td>\n    </tr>\n    <tr>\n      <th>2001-05-31</th>\n      <td>-0.140220</td>\n      <td>0.044721</td>\n      <td>-0.023317</td>\n      <td>-0.071042</td>\n      <td>-0.064299</td>\n      <td>-0.063425</td>\n    </tr>\n    <tr>\n      <th>...</th>\n      <th>...</th>\n      <td>...</td>\n      <td>...</td>\n      <td>...</td>\n      <td>...</td>\n      <td>...</td>\n      <td>...</td>\n    </tr>\n    <tr>\n      <th rowspan=\"5\" valign=\"top\">ZUMZ</th>\n      <th>2017-11-30</th>\n      <td>0.235127</td>\n      <td>0.097461</td>\n      <td>0.205302</td>\n      <td>0.073430</td>\n      <td>0.007402</td>\n      <td>-0.010687</td>\n    </tr>\n    <tr>\n      <th>2017-12-31</th>\n      <td>-0.044725</td>\n      <td>0.086226</td>\n      <td>0.047857</td>\n      <td>0.090987</td>\n      <td>0.014465</td>\n      <td>-0.003996</td>\n    </tr>\n    <tr>\n      <th>2018-01-31</th>\n      <td>-0.003601</td>\n      <td>-0.024380</td>\n      <td>0.055418</td>\n      <td>0.085265</td>\n      <td>0.016237</td>\n      <td>0.002864</td>\n    </tr>\n    <tr>\n      <th>2018-02-28</th>\n      <td>-0.050602</td>\n      <td>-0.027386</td>\n      <td>-0.033200</td>\n      <td>0.079484</td>\n      <td>0.036640</td>\n      <td>-0.002905</td>\n    </tr>\n    <tr>\n      <th>2018-03-31</th>\n      <td>0.197970</td>\n      <td>0.066466</td>\n      <td>0.042579</td>\n      <td>0.045215</td>\n      <td>0.074606</td>\n      <td>0.021422</td>\n    </tr>\n  </tbody>\n</table>\n<p>360752 rows × 6 columns</p>\n</div>",
      "text/plain": "                   return_1m  return_2m  return_3m  return_6m  return_9m  \\\nticker date                                                                \nA      2001-01-31  -0.003653   0.022360   0.056104   0.049811  -0.052500   \n       2001-02-28  -0.329564  -0.189115  -0.116435  -0.084141  -0.076425   \n       2001-03-31  -0.146389  -0.249443  -0.175116  -0.074628  -0.092690   \n       2001-04-30   0.269444   0.040966  -0.105747  -0.028185  -0.004837   \n       2001-05-31  -0.140220   0.044721  -0.023317  -0.071042  -0.064299   \n...                      ...        ...        ...        ...        ...   \nZUMZ   2017-11-30   0.235127   0.097461   0.205302   0.073430   0.007402   \n       2017-12-31  -0.044725   0.086226   0.047857   0.090987   0.014465   \n       2018-01-31  -0.003601  -0.024380   0.055418   0.085265   0.016237   \n       2018-02-28  -0.050602  -0.027386  -0.033200   0.079484   0.036640   \n       2018-03-31   0.197970   0.066466   0.042579   0.045215   0.074606   \n\n                   return_12m  \nticker date                    \nA      2001-01-31   -0.015988  \n       2001-02-28   -0.084537  \n       2001-03-31   -0.096606  \n       2001-04-30   -0.066102  \n       2001-05-31   -0.063425  \n...                       ...  \nZUMZ   2017-11-30   -0.010687  \n       2017-12-31   -0.003996  \n       2018-01-31    0.002864  \n       2018-02-28   -0.002905  \n       2018-03-31    0.021422  \n\n[360752 rows x 6 columns]"
     },
     "execution_count": 48,
     "metadata": {},
     "output_type": "execute_result"
    }
   ],
   "source": [
    "data"
   ]
  },
  {
   "cell_type": "code",
   "execution_count": 53,
   "metadata": {},
   "outputs": [
    {
     "data": {
      "text/plain": "<seaborn.matrix.ClusterGrid at 0x132ae5b90>"
     },
     "execution_count": 53,
     "metadata": {},
     "output_type": "execute_result"
    },
    {
     "data": {
      "image/png": "[encoded data removed]",
      "text/plain": "<Figure size 1000x1000 with 4 Axes>"
     },
     "metadata": {},
     "output_type": "display_data"
    }
   ],
   "source": [
    "sns.clustermap(data.corr('spearman'), annot = True, center = 0, cmap = 'Blues')"
   ]
  },
  {
   "cell_type": "code",
   "execution_count": 54,
   "metadata": {},
   "outputs": [],
   "source": [
    "for lag in [2,3,6,9,12]:\n",
    "    data[f'momentum_{lag}'] = data[f'return_{lag}m'].sub(data.return_1m)\n",
    "data[f'momentum_3_12'] = data[f'return_12m'].sub(data.return_3m)"
   ]
  },
  {
   "cell_type": "code",
   "execution_count": 56,
   "metadata": {},
   "outputs": [],
   "source": [
    "for t in range(1, 7):\n",
    "    data[f'return_1m_t-{t}'] = data.groupby(level='ticker').return_1m.shift(t)"
   ]
  },
  {
   "cell_type": "code",
   "execution_count": 58,
   "metadata": {},
   "outputs": [],
   "source": [
    "for t in [1,2,3,6,12]:\n",
    "    data[f'target_{t}m'] = (data.groupby(level='ticker')\n",
    "                            [f'return_{t}m'].shift(-t))"
   ]
  },
  {
   "cell_type": "markdown",
   "metadata": {},
   "source": [
    "# Beta factors"
   ]
  },
  {
   "cell_type": "code",
   "execution_count": 63,
   "metadata": {},
   "outputs": [
    {
     "data": {
      "text/html": "<div>\n<style scoped>\n    .dataframe tbody tr th:only-of-type {\n        vertical-align: middle;\n    }\n\n    .dataframe tbody tr th {\n        vertical-align: top;\n    }\n\n    .dataframe thead th {\n        text-align: right;\n    }\n</style>\n<table border=\"1\" class=\"dataframe\">\n  <thead>\n    <tr style=\"text-align: right;\">\n      <th></th>\n      <th></th>\n      <th>Mkt-RF</th>\n      <th>SMB</th>\n      <th>HML</th>\n      <th>RMW</th>\n      <th>CMA</th>\n      <th>return_1m</th>\n    </tr>\n    <tr>\n      <th>ticker</th>\n      <th>date</th>\n      <th></th>\n      <th></th>\n      <th></th>\n      <th></th>\n      <th></th>\n      <th></th>\n    </tr>\n  </thead>\n  <tbody>\n    <tr>\n      <th rowspan=\"5\" valign=\"top\">A</th>\n      <th>2001-01-31</th>\n      <td>0.0313</td>\n      <td>0.0548</td>\n      <td>-0.0507</td>\n      <td>-0.0469</td>\n      <td>-0.0503</td>\n      <td>-0.003653</td>\n    </tr>\n    <tr>\n      <th>2001-02-28</th>\n      <td>-0.1005</td>\n      <td>0.0283</td>\n      <td>0.1247</td>\n      <td>0.0910</td>\n      <td>0.0907</td>\n      <td>-0.329564</td>\n    </tr>\n    <tr>\n      <th>2001-03-31</th>\n      <td>-0.0726</td>\n      <td>0.0233</td>\n      <td>0.0642</td>\n      <td>0.0335</td>\n      <td>0.0392</td>\n      <td>-0.146389</td>\n    </tr>\n    <tr>\n      <th>2001-04-30</th>\n      <td>0.0794</td>\n      <td>-0.0086</td>\n      <td>-0.0467</td>\n      <td>-0.0306</td>\n      <td>-0.0320</td>\n      <td>0.269444</td>\n    </tr>\n    <tr>\n      <th>2001-05-31</th>\n      <td>0.0072</td>\n      <td>0.0360</td>\n      <td>0.0336</td>\n      <td>0.0025</td>\n      <td>0.0191</td>\n      <td>-0.140220</td>\n    </tr>\n    <tr>\n      <th>...</th>\n      <th>...</th>\n      <td>...</td>\n      <td>...</td>\n      <td>...</td>\n      <td>...</td>\n      <td>...</td>\n      <td>...</td>\n    </tr>\n    <tr>\n      <th rowspan=\"5\" valign=\"top\">ZUMZ</th>\n      <th>2017-11-30</th>\n      <td>0.0312</td>\n      <td>-0.0033</td>\n      <td>-0.0003</td>\n      <td>0.0316</td>\n      <td>-0.0005</td>\n      <td>0.235127</td>\n    </tr>\n    <tr>\n      <th>2017-12-31</th>\n      <td>0.0106</td>\n      <td>-0.0107</td>\n      <td>0.0006</td>\n      <td>0.0074</td>\n      <td>0.0169</td>\n      <td>-0.044725</td>\n    </tr>\n    <tr>\n      <th>2018-01-31</th>\n      <td>0.0557</td>\n      <td>-0.0318</td>\n      <td>-0.0129</td>\n      <td>-0.0076</td>\n      <td>-0.0096</td>\n      <td>-0.003601</td>\n    </tr>\n    <tr>\n      <th>2018-02-28</th>\n      <td>-0.0365</td>\n      <td>0.0032</td>\n      <td>-0.0104</td>\n      <td>0.0052</td>\n      <td>-0.0237</td>\n      <td>-0.050602</td>\n    </tr>\n    <tr>\n      <th>2018-03-31</th>\n      <td>-0.0235</td>\n      <td>0.0359</td>\n      <td>-0.0021</td>\n      <td>-0.0046</td>\n      <td>0.0001</td>\n      <td>0.197970</td>\n    </tr>\n  </tbody>\n</table>\n<p>360752 rows × 6 columns</p>\n</div>",
      "text/plain": "                   Mkt-RF     SMB     HML     RMW     CMA  return_1m\nticker date                                                         \nA      2001-01-31  0.0313  0.0548 -0.0507 -0.0469 -0.0503  -0.003653\n       2001-02-28 -0.1005  0.0283  0.1247  0.0910  0.0907  -0.329564\n       2001-03-31 -0.0726  0.0233  0.0642  0.0335  0.0392  -0.146389\n       2001-04-30  0.0794 -0.0086 -0.0467 -0.0306 -0.0320   0.269444\n       2001-05-31  0.0072  0.0360  0.0336  0.0025  0.0191  -0.140220\n...                   ...     ...     ...     ...     ...        ...\nZUMZ   2017-11-30  0.0312 -0.0033 -0.0003  0.0316 -0.0005   0.235127\n       2017-12-31  0.0106 -0.0107  0.0006  0.0074  0.0169  -0.044725\n       2018-01-31  0.0557 -0.0318 -0.0129 -0.0076 -0.0096  -0.003601\n       2018-02-28 -0.0365  0.0032 -0.0104  0.0052 -0.0237  -0.050602\n       2018-03-31 -0.0235  0.0359 -0.0021 -0.0046  0.0001   0.197970\n\n[360752 rows x 6 columns]"
     },
     "execution_count": 63,
     "metadata": {},
     "output_type": "execute_result"
    }
   ],
   "source": [
    "factors = ['Mkt-RF', 'SMB', 'HML', 'RMW', 'CMA']\n",
    "factor_data = web.DataReader('F-F_Research_Data_5_Factors_2x3', \n",
    "              'famafrench', start='2000')[0].drop('RF', axis=1)\n",
    "factor_data.index = factor_data.index.to_timestamp()\n",
    "factor_data = factor_data.resample('M').last().div(100)\n",
    "factor_data.index.name = 'date'\n",
    "factor_data = factor_data.join(data['return_1m']).sort_index()"
   ]
  },
  {
   "cell_type": "code",
   "execution_count": 64,
   "metadata": {},
   "outputs": [],
   "source": [
    "T = 24\n",
    "betas = (factor_data.groupby(level='ticker',\n",
    "                             group_keys=False)\n",
    "         .apply(lambda x: RollingOLS(endog=x.return_1m,\n",
    "                                     exog=sm.add_constant(x.drop('return_1m', axis=1)),\n",
    "                                     window=min(T, x.shape[0]-1))\n",
    "                .fit(params_only=True)\n",
    "                .params\n",
    "                .drop('const', axis=1)))"
   ]
  },
  {
   "cell_type": "code",
   "execution_count": 66,
   "metadata": {},
   "outputs": [
    {
     "name": "stdout",
     "output_type": "stream",
     "text": [
      "<class 'pandas.core.frame.DataFrame'>\n",
      "MultiIndex: 360752 entries, ('A', Timestamp('2001-01-31 00:00:00')) to ('ZUMZ', Timestamp('2018-03-31 00:00:00'))\n",
      "Data columns (total 28 columns):\n",
      " #   Column         Non-Null Count   Dtype  \n",
      "---  ------         --------------   -----  \n",
      " 0   return_1m      360752 non-null  float64\n",
      " 1   return_2m      360752 non-null  float64\n",
      " 2   return_3m      360752 non-null  float64\n",
      " 3   return_6m      360752 non-null  float64\n",
      " 4   return_9m      360752 non-null  float64\n",
      " 5   return_12m     360752 non-null  float64\n",
      " 6   momentum_2     360752 non-null  float64\n",
      " 7   momentum_3     360752 non-null  float64\n",
      " 8   momentum_6     360752 non-null  float64\n",
      " 9   momentum_9     360752 non-null  float64\n",
      " 10  momentum_12    360752 non-null  float64\n",
      " 11  momentum_3_12  360752 non-null  float64\n",
      " 12  return_1m_t-1  358914 non-null  float64\n",
      " 13  return_1m_t-2  357076 non-null  float64\n",
      " 14  return_1m_t-3  355238 non-null  float64\n",
      " 15  return_1m_t-4  353400 non-null  float64\n",
      " 16  return_1m_t-5  351562 non-null  float64\n",
      " 17  return_1m_t-6  349724 non-null  float64\n",
      " 18  target_1m      358914 non-null  float64\n",
      " 19  target_2m      357076 non-null  float64\n",
      " 20  target_3m      355238 non-null  float64\n",
      " 21  target_6m      349724 non-null  float64\n",
      " 22  target_12m     338696 non-null  float64\n",
      " 23  Mkt-RF         316640 non-null  float64\n",
      " 24  SMB            316640 non-null  float64\n",
      " 25  HML            316640 non-null  float64\n",
      " 26  RMW            316640 non-null  float64\n",
      " 27  CMA            316640 non-null  float64\n",
      "dtypes: float64(28)\n",
      "memory usage: 86.6+ MB\n"
     ]
    }
   ],
   "source": [
    "data = (data\n",
    "        .join(betas\n",
    "              .groupby(level='ticker')\n",
    "              .shift()))\n",
    "data.info()"
   ]
  },
  {
   "cell_type": "code",
   "execution_count": 69,
   "metadata": {},
   "outputs": [],
   "source": [
    "data = (data\n",
    "        .join(pd.qcut(stocks.ipoyear, q=5, labels=list(range(1, 6)))\n",
    "              .astype(float)\n",
    "              .fillna(0)\n",
    "              .astype(int)\n",
    "              .to_frame('age')))\n",
    "data.age = data.age.fillna(-1)"
   ]
  },
  {
   "cell_type": "code",
   "execution_count": 70,
   "metadata": {},
   "outputs": [
    {
     "name": "stdout",
     "output_type": "stream",
     "text": [
      "<class 'pandas.core.frame.DataFrame'>\n",
      "DatetimeIndex: 207 entries, 2018-03-31 to 2001-01-31\n",
      "Columns: 1838 entries, A to ZUMZ\n",
      "dtypes: float64(1838)\n",
      "memory usage: 2.9 MB\n"
     ]
    }
   ],
   "source": [
    "size_factor = (monthly_prices\n",
    "               .loc[data.index.get_level_values('date').unique(),\n",
    "                    data.index.get_level_values('ticker').unique()]\n",
    "               .sort_index(ascending=False)\n",
    "               .pct_change()\n",
    "               .fillna(0)\n",
    "               .add(1)\n",
    "               .cumprod())\n",
    "size_factor.info()"
   ]
  },
  {
   "cell_type": "code",
   "execution_count": 71,
   "metadata": {},
   "outputs": [],
   "source": [
    "msize = (size_factor\n",
    "         .mul(stocks\n",
    "              .loc[size_factor.columns, 'marketcap'])).dropna(axis=1, how='all')"
   ]
  },
  {
   "cell_type": "code",
   "execution_count": 72,
   "metadata": {},
   "outputs": [],
   "source": [
    "data['msize'] = (msize\n",
    "                 .apply(lambda x: pd.qcut(x, q=10, labels=list(range(1, 11)))\n",
    "                        .astype(int), axis=1)\n",
    "                 .stack()\n",
    "                 .swaplevel())\n",
    "data.msize = data.msize.fillna(-1)"
   ]
  },
  {
   "cell_type": "code",
   "execution_count": 73,
   "metadata": {},
   "outputs": [],
   "source": [
    "data = data.join(stocks[['sector']])\n",
    "data.sector = data.sector.fillna('Unknown')"
   ]
  },
  {
   "cell_type": "code",
   "execution_count": 74,
   "metadata": {},
   "outputs": [
    {
     "name": "stdout",
     "output_type": "stream",
     "text": [
      "<class 'pandas.core.frame.DataFrame'>\n",
      "MultiIndex: 360752 entries, ('A', Timestamp('2001-01-31 00:00:00')) to ('ZUMZ', Timestamp('2018-03-31 00:00:00'))\n",
      "Data columns (total 31 columns):\n",
      " #   Column         Non-Null Count   Dtype  \n",
      "---  ------         --------------   -----  \n",
      " 0   return_1m      360752 non-null  float64\n",
      " 1   return_2m      360752 non-null  float64\n",
      " 2   return_3m      360752 non-null  float64\n",
      " 3   return_6m      360752 non-null  float64\n",
      " 4   return_9m      360752 non-null  float64\n",
      " 5   return_12m     360752 non-null  float64\n",
      " 6   momentum_2     360752 non-null  float64\n",
      " 7   momentum_3     360752 non-null  float64\n",
      " 8   momentum_6     360752 non-null  float64\n",
      " 9   momentum_9     360752 non-null  float64\n",
      " 10  momentum_12    360752 non-null  float64\n",
      " 11  momentum_3_12  360752 non-null  float64\n",
      " 12  return_1m_t-1  358914 non-null  float64\n",
      " 13  return_1m_t-2  357076 non-null  float64\n",
      " 14  return_1m_t-3  355238 non-null  float64\n",
      " 15  return_1m_t-4  353400 non-null  float64\n",
      " 16  return_1m_t-5  351562 non-null  float64\n",
      " 17  return_1m_t-6  349724 non-null  float64\n",
      " 18  target_1m      358914 non-null  float64\n",
      " 19  target_2m      357076 non-null  float64\n",
      " 20  target_3m      355238 non-null  float64\n",
      " 21  target_6m      349724 non-null  float64\n",
      " 22  target_12m     338696 non-null  float64\n",
      " 23  Mkt-RF         316640 non-null  float64\n",
      " 24  SMB            316640 non-null  float64\n",
      " 25  HML            316640 non-null  float64\n",
      " 26  RMW            316640 non-null  float64\n",
      " 27  CMA            316640 non-null  float64\n",
      " 28  age            360752 non-null  int64  \n",
      " 29  msize          360752 non-null  float64\n",
      " 30  sector         360752 non-null  object \n",
      "dtypes: float64(29), int64(1), object(1)\n",
      "memory usage: 94.9+ MB\n"
     ]
    }
   ],
   "source": [
    "data.info()"
   ]
  },
  {
   "cell_type": "code",
   "execution_count": 75,
   "metadata": {},
   "outputs": [
    {
     "name": "stdout",
     "output_type": "stream",
     "text": [
      "<class 'pandas.io.pytables.HDFStore'>\n",
      "File path: ../Data/assets.h5\n",
      "/engineered_features            frame        (shape->[358914,31])  \n",
      "/quandl/wiki/prices             frame        (shape->[15389314,12])\n",
      "/sp500/fred                     frame        (shape->[2610,1])     \n",
      "/sp500/stocks                   frame        (shape->[503,8])      \n",
      "/us_equities/stocks             frame        (shape->[6834,6])     \n"
     ]
    }
   ],
   "source": [
    "with pd.HDFStore(DATA_STORE) as store:\n",
    "    store.put('engineered_features', data.sort_index().loc[idx[:, :datetime(2018, 3, 1)], :])\n",
    "    print(store.info())"
   ]
  },
  {
   "cell_type": "code",
   "execution_count": 78,
   "metadata": {},
   "outputs": [],
   "source": [
    "dates = data.index.get_level_values('date')\n",
    "data['year'] = dates.year\n",
    "data['month'] = dates.month"
   ]
  },
  {
   "cell_type": "code",
   "execution_count": 79,
   "metadata": {},
   "outputs": [
    {
     "name": "stdout",
     "output_type": "stream",
     "text": [
      "<class 'pandas.core.frame.DataFrame'>\n",
      "MultiIndex: 360752 entries, ('A', Timestamp('2001-01-31 00:00:00')) to ('ZUMZ', Timestamp('2018-03-31 00:00:00'))\n",
      "Data columns (total 88 columns):\n",
      " #   Column                 Non-Null Count   Dtype  \n",
      "---  ------                 --------------   -----  \n",
      " 0   return_1m              360752 non-null  float64\n",
      " 1   return_2m              360752 non-null  float64\n",
      " 2   return_3m              360752 non-null  float64\n",
      " 3   return_6m              360752 non-null  float64\n",
      " 4   return_9m              360752 non-null  float64\n",
      " 5   return_12m             360752 non-null  float64\n",
      " 6   momentum_2             360752 non-null  float64\n",
      " 7   momentum_3             360752 non-null  float64\n",
      " 8   momentum_6             360752 non-null  float64\n",
      " 9   momentum_9             360752 non-null  float64\n",
      " 10  momentum_12            360752 non-null  float64\n",
      " 11  momentum_3_12          360752 non-null  float64\n",
      " 12  return_1m_t-1          358914 non-null  float64\n",
      " 13  return_1m_t-2          357076 non-null  float64\n",
      " 14  return_1m_t-3          355238 non-null  float64\n",
      " 15  return_1m_t-4          353400 non-null  float64\n",
      " 16  return_1m_t-5          351562 non-null  float64\n",
      " 17  return_1m_t-6          349724 non-null  float64\n",
      " 18  target_1m              358914 non-null  float64\n",
      " 19  target_2m              357076 non-null  float64\n",
      " 20  target_3m              355238 non-null  float64\n",
      " 21  target_6m              349724 non-null  float64\n",
      " 22  target_12m             338696 non-null  float64\n",
      " 23  Mkt-RF                 316640 non-null  float64\n",
      " 24  SMB                    316640 non-null  float64\n",
      " 25  HML                    316640 non-null  float64\n",
      " 26  RMW                    316640 non-null  float64\n",
      " 27  CMA                    316640 non-null  float64\n",
      " 28  year_2001              360752 non-null  bool   \n",
      " 29  year_2002              360752 non-null  bool   \n",
      " 30  year_2003              360752 non-null  bool   \n",
      " 31  year_2004              360752 non-null  bool   \n",
      " 32  year_2005              360752 non-null  bool   \n",
      " 33  year_2006              360752 non-null  bool   \n",
      " 34  year_2007              360752 non-null  bool   \n",
      " 35  year_2008              360752 non-null  bool   \n",
      " 36  year_2009              360752 non-null  bool   \n",
      " 37  year_2010              360752 non-null  bool   \n",
      " 38  year_2011              360752 non-null  bool   \n",
      " 39  year_2012              360752 non-null  bool   \n",
      " 40  year_2013              360752 non-null  bool   \n",
      " 41  year_2014              360752 non-null  bool   \n",
      " 42  year_2015              360752 non-null  bool   \n",
      " 43  year_2016              360752 non-null  bool   \n",
      " 44  year_2017              360752 non-null  bool   \n",
      " 45  year_2018              360752 non-null  bool   \n",
      " 46  month_1                360752 non-null  bool   \n",
      " 47  month_2                360752 non-null  bool   \n",
      " 48  month_3                360752 non-null  bool   \n",
      " 49  month_4                360752 non-null  bool   \n",
      " 50  month_5                360752 non-null  bool   \n",
      " 51  month_6                360752 non-null  bool   \n",
      " 52  month_7                360752 non-null  bool   \n",
      " 53  month_8                360752 non-null  bool   \n",
      " 54  month_9                360752 non-null  bool   \n",
      " 55  month_10               360752 non-null  bool   \n",
      " 56  month_11               360752 non-null  bool   \n",
      " 57  month_12               360752 non-null  bool   \n",
      " 58  msize_-1               360752 non-null  bool   \n",
      " 59  msize_1                360752 non-null  bool   \n",
      " 60  msize_2                360752 non-null  bool   \n",
      " 61  msize_3                360752 non-null  bool   \n",
      " 62  msize_4                360752 non-null  bool   \n",
      " 63  msize_5                360752 non-null  bool   \n",
      " 64  msize_6                360752 non-null  bool   \n",
      " 65  msize_7                360752 non-null  bool   \n",
      " 66  msize_8                360752 non-null  bool   \n",
      " 67  msize_9                360752 non-null  bool   \n",
      " 68  msize_10               360752 non-null  bool   \n",
      " 69  age_0                  360752 non-null  bool   \n",
      " 70  age_1                  360752 non-null  bool   \n",
      " 71  age_2                  360752 non-null  bool   \n",
      " 72  age_3                  360752 non-null  bool   \n",
      " 73  age_4                  360752 non-null  bool   \n",
      " 74  age_5                  360752 non-null  bool   \n",
      " 75  Basic Industries       360752 non-null  bool   \n",
      " 76  Capital Goods          360752 non-null  bool   \n",
      " 77  Consumer Durables      360752 non-null  bool   \n",
      " 78  Consumer Non-Durables  360752 non-null  bool   \n",
      " 79  Consumer Services      360752 non-null  bool   \n",
      " 80  Energy                 360752 non-null  bool   \n",
      " 81  Finance                360752 non-null  bool   \n",
      " 82  Health Care            360752 non-null  bool   \n",
      " 83  Miscellaneous          360752 non-null  bool   \n",
      " 84  Public Utilities       360752 non-null  bool   \n",
      " 85  Technology             360752 non-null  bool   \n",
      " 86  Transportation         360752 non-null  bool   \n",
      " 87  Unknown                360752 non-null  bool   \n",
      "dtypes: bool(60), float64(28)\n",
      "memory usage: 107.2+ MB\n"
     ]
    }
   ],
   "source": [
    "dummy_data = pd.get_dummies(data,\n",
    "                            columns=['year','month', 'msize', 'age',  'sector'],\n",
    "                            prefix=['year','month', 'msize', 'age', ''],\n",
    "                            prefix_sep=['_', '_', '_', '_', ''])\n",
    "dummy_data = dummy_data.rename(columns={c:c.replace('.0', '') for c in dummy_data.columns})\n",
    "dummy_data.info()"
   ]
  },
  {
   "cell_type": "code",
   "execution_count": null,
   "metadata": {},
   "outputs": [],
   "source": []
  }
 ],
 "metadata": {
  "kernelspec": {
   "display_name": "Python 3.11.5 64-bit",
   "name": "python3115jvsc74a57bd020e40d8fc09a6690434ad602c7eb2d8de15d36ec466bfbfb0de97c7c540d7363"
  },
  "language_info": {
   "codemirror_mode": {
    "name": "ipython",
    "version": 3
   },
   "file_extension": ".py",
   "mimetype": "text/x-python",
   "name": "python",
   "nbconvert_exporter": "python",
   "pygments_lexer": "ipython3",
   "version": "3.11.5"
  },
  "metadata": {
   "interpreter": {
    "hash": "20e40d8fc09a6690434ad602c7eb2d8de15d36ec466bfbfb0de97c7c540d7363"
   }
  },
  "orig_nbformat": 2
 },
 "nbformat": 4,
 "nbformat_minor": 2
}