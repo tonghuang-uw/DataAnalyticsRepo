{
 "cells": [
  {
   "cell_type": "code",
   "execution_count": 1,
   "metadata": {},
   "outputs": [],
   "source": [
    "import warnings\n",
    "warnings.filterwarnings('ignore')"
   ]
  },
  {
   "cell_type": "code",
   "execution_count": 4,
   "metadata": {},
   "outputs": [],
   "source": [
    "import pandas as pd\n",
    "import numpy as np\n",
    "\n",
    "from statsmodels.api import OLS, add_constant\n",
    "import pandas_datareader.data as web\n",
    "\n",
    "import matplotlib.pyplot as plt\n",
    "import seaborn as sns"
   ]
  },
  {
   "cell_type": "code",
   "execution_count": 5,
   "metadata": {},
   "outputs": [],
   "source": [
    "sns.set_style('whitegrid')"
   ]
  },
  {
   "cell_type": "code",
   "execution_count": 6,
   "metadata": {},
   "outputs": [
    {
     "name": "stdout",
     "output_type": "stream",
     "text": [
      "<class 'pandas.core.frame.DataFrame'>\n",
      "PeriodIndex: 96 entries, 2010-01 to 2017-12\n",
      "Freq: M\n",
      "Data columns (total 6 columns):\n",
      " #   Column  Non-Null Count  Dtype  \n",
      "---  ------  --------------  -----  \n",
      " 0   Mkt-RF  96 non-null     float64\n",
      " 1   SMB     96 non-null     float64\n",
      " 2   HML     96 non-null     float64\n",
      " 3   RMW     96 non-null     float64\n",
      " 4   CMA     96 non-null     float64\n",
      " 5   RF      96 non-null     float64\n",
      "dtypes: float64(6)\n",
      "memory usage: 5.2 KB\n"
     ]
    }
   ],
   "source": [
    "ff_factor = 'F-F_Research_Data_5_Factors_2x3'\n",
    "ff_factor_data = web.DataReader(ff_factor, 'famafrench', start='2010', end='2017-12')[0]\n",
    "ff_factor_data.info()"
   ]
  },
  {
   "cell_type": "code",
   "execution_count": 7,
   "metadata": {},
   "outputs": [
    {
     "data": {
      "text/html": "<div>\n<style scoped>\n    .dataframe tbody tr th:only-of-type {\n        vertical-align: middle;\n    }\n\n    .dataframe tbody tr th {\n        vertical-align: top;\n    }\n\n    .dataframe thead th {\n        text-align: right;\n    }\n</style>\n<table border=\"1\" class=\"dataframe\">\n  <thead>\n    <tr style=\"text-align: right;\">\n      <th></th>\n      <th>Mkt-RF</th>\n      <th>SMB</th>\n      <th>HML</th>\n      <th>RMW</th>\n      <th>CMA</th>\n      <th>RF</th>\n    </tr>\n  </thead>\n  <tbody>\n    <tr>\n      <th>count</th>\n      <td>96.000000</td>\n      <td>96.000000</td>\n      <td>96.000000</td>\n      <td>96.000000</td>\n      <td>96.000000</td>\n      <td>96.000000</td>\n    </tr>\n    <tr>\n      <th>mean</th>\n      <td>1.158438</td>\n      <td>0.060417</td>\n      <td>-0.049792</td>\n      <td>0.128750</td>\n      <td>0.047917</td>\n      <td>0.012604</td>\n    </tr>\n    <tr>\n      <th>std</th>\n      <td>3.580012</td>\n      <td>2.302008</td>\n      <td>2.202941</td>\n      <td>1.581701</td>\n      <td>1.411604</td>\n      <td>0.022583</td>\n    </tr>\n    <tr>\n      <th>min</th>\n      <td>-7.890000</td>\n      <td>-4.550000</td>\n      <td>-4.700000</td>\n      <td>-3.880000</td>\n      <td>-3.250000</td>\n      <td>0.000000</td>\n    </tr>\n    <tr>\n      <th>25%</th>\n      <td>-0.917500</td>\n      <td>-1.695000</td>\n      <td>-1.662500</td>\n      <td>-1.090000</td>\n      <td>-0.952500</td>\n      <td>0.000000</td>\n    </tr>\n    <tr>\n      <th>50%</th>\n      <td>1.235000</td>\n      <td>0.205000</td>\n      <td>-0.310000</td>\n      <td>0.190000</td>\n      <td>-0.005000</td>\n      <td>0.000000</td>\n    </tr>\n    <tr>\n      <th>75%</th>\n      <td>3.197500</td>\n      <td>1.590000</td>\n      <td>1.205000</td>\n      <td>1.197500</td>\n      <td>0.922500</td>\n      <td>0.010000</td>\n    </tr>\n    <tr>\n      <th>max</th>\n      <td>11.350000</td>\n      <td>7.070000</td>\n      <td>8.210000</td>\n      <td>3.480000</td>\n      <td>3.700000</td>\n      <td>0.090000</td>\n    </tr>\n  </tbody>\n</table>\n</div>",
      "text/plain": "          Mkt-RF        SMB        HML        RMW        CMA         RF\ncount  96.000000  96.000000  96.000000  96.000000  96.000000  96.000000\nmean    1.158438   0.060417  -0.049792   0.128750   0.047917   0.012604\nstd     3.580012   2.302008   2.202941   1.581701   1.411604   0.022583\nmin    -7.890000  -4.550000  -4.700000  -3.880000  -3.250000   0.000000\n25%    -0.917500  -1.695000  -1.662500  -1.090000  -0.952500   0.000000\n50%     1.235000   0.205000  -0.310000   0.190000  -0.005000   0.000000\n75%     3.197500   1.590000   1.205000   1.197500   0.922500   0.010000\nmax    11.350000   7.070000   8.210000   3.480000   3.700000   0.090000"
     },
     "execution_count": 7,
     "metadata": {},
     "output_type": "execute_result"
    }
   ],
   "source": [
    "ff_factor_data.describe()"
   ]
  },
  {
   "cell_type": "code",
   "execution_count": 8,
   "metadata": {},
   "outputs": [
    {
     "name": "stdout",
     "output_type": "stream",
     "text": [
      "<class 'pandas.core.frame.DataFrame'>\n",
      "PeriodIndex: 96 entries, 2010-01 to 2017-12\n",
      "Freq: M\n",
      "Data columns (total 17 columns):\n",
      " #   Column  Non-Null Count  Dtype  \n",
      "---  ------  --------------  -----  \n",
      " 0   Food    96 non-null     float64\n",
      " 1   Mines   96 non-null     float64\n",
      " 2   Oil     96 non-null     float64\n",
      " 3   Clths   96 non-null     float64\n",
      " 4   Durbl   96 non-null     float64\n",
      " 5   Chems   96 non-null     float64\n",
      " 6   Cnsum   96 non-null     float64\n",
      " 7   Cnstr   96 non-null     float64\n",
      " 8   Steel   96 non-null     float64\n",
      " 9   FabPr   96 non-null     float64\n",
      " 10  Machn   96 non-null     float64\n",
      " 11  Cars    96 non-null     float64\n",
      " 12  Trans   96 non-null     float64\n",
      " 13  Utils   96 non-null     float64\n",
      " 14  Rtail   96 non-null     float64\n",
      " 15  Finan   96 non-null     float64\n",
      " 16  Other   96 non-null     float64\n",
      "dtypes: float64(17)\n",
      "memory usage: 13.5 KB\n"
     ]
    }
   ],
   "source": [
    "ff_portfolio = '17_Industry_Portfolios'\n",
    "ff_portfolio_data = web.DataReader(ff_portfolio, 'famafrench', start='2010', end='2017-12')[0]\n",
    "ff_portfolio_data = ff_portfolio_data.sub(ff_factor_data.RF, axis=0)\n",
    "ff_portfolio_data.info()"
   ]
  },
  {
   "cell_type": "code",
   "execution_count": 10,
   "metadata": {},
   "outputs": [],
   "source": [
    "with pd.HDFStore('../data/assets.h5') as store:\n",
    "    prices = store['/quandl/wiki/prices'].adj_close.unstack().loc['2010':'2017']\n",
    "    equities = store['/us_equities/stocks'].drop_duplicates()"
   ]
  },
  {
   "cell_type": "code",
   "execution_count": 23,
   "metadata": {},
   "outputs": [],
   "source": [
    "sectors = equities.filter(prices.columns, axis = 0).sector.to_dict()\n",
    "prices = prices.filter(sectors.keys()).dropna(how='all', axis = 1)"
   ]
  },
  {
   "cell_type": "code",
   "execution_count": 25,
   "metadata": {},
   "outputs": [
    {
     "name": "stdout",
     "output_type": "stream",
     "text": [
      "<class 'pandas.core.frame.DataFrame'>\n",
      "PeriodIndex: 95 entries, 2010-02 to 2017-12\n",
      "Freq: M\n",
      "Columns: 1986 entries, A to ZUMZ\n",
      "dtypes: float64(1986)\n",
      "memory usage: 1.4 MB\n"
     ]
    }
   ],
   "source": [
    "returns = prices.resample('M').last().pct_change().mul(100).to_period('M')\n",
    "returns = returns.dropna(how='all').dropna(axis=1)\n",
    "returns.info()"
   ]
  },
  {
   "cell_type": "code",
   "execution_count": 27,
   "metadata": {},
   "outputs": [],
   "source": [
    "ff_factor_data = ff_factor_data.loc[returns.index]\n",
    "ff_portfolio_data = ff_portfolio_data.loc[returns.index]"
   ]
  },
  {
   "cell_type": "markdown",
   "metadata": {},
   "source": [
    "# Compute excess return"
   ]
  },
  {
   "cell_type": "code",
   "execution_count": 34,
   "metadata": {},
   "outputs": [
    {
     "data": {
      "text/html": "<div>\n<style scoped>\n    .dataframe tbody tr th:only-of-type {\n        vertical-align: middle;\n    }\n\n    .dataframe tbody tr th {\n        vertical-align: top;\n    }\n\n    .dataframe thead th {\n        text-align: right;\n    }\n</style>\n<table border=\"1\" class=\"dataframe\">\n  <thead>\n    <tr style=\"text-align: right;\">\n      <th></th>\n      <th>A</th>\n      <th>AAL</th>\n      <th>AAN</th>\n      <th>AAON</th>\n      <th>AAP</th>\n      <th>AAPL</th>\n      <th>AAWW</th>\n      <th>ABAX</th>\n      <th>ABC</th>\n      <th>ABCB</th>\n      <th>...</th>\n      <th>YRCW</th>\n      <th>YUM</th>\n      <th>ZAGG</th>\n      <th>ZBH</th>\n      <th>ZBRA</th>\n      <th>ZEUS</th>\n      <th>ZION</th>\n      <th>ZIOP</th>\n      <th>ZIXI</th>\n      <th>ZUMZ</th>\n    </tr>\n  </thead>\n  <tbody>\n    <tr>\n      <th>count</th>\n      <td>95.000000</td>\n      <td>95.000000</td>\n      <td>95.000000</td>\n      <td>95.000000</td>\n      <td>95.000000</td>\n      <td>95.000000</td>\n      <td>95.000000</td>\n      <td>95.000000</td>\n      <td>95.000000</td>\n      <td>95.000000</td>\n      <td>...</td>\n      <td>95.000000</td>\n      <td>95.000000</td>\n      <td>95.000000</td>\n      <td>95.000000</td>\n      <td>95.000000</td>\n      <td>95.000000</td>\n      <td>95.000000</td>\n      <td>95.000000</td>\n      <td>95.000000</td>\n      <td>95.000000</td>\n    </tr>\n    <tr>\n      <th>mean</th>\n      <td>1.585400</td>\n      <td>2.645319</td>\n      <td>1.531491</td>\n      <td>2.284955</td>\n      <td>1.284023</td>\n      <td>2.277434</td>\n      <td>1.196717</td>\n      <td>1.160586</td>\n      <td>1.586976</td>\n      <td>2.090808</td>\n      <td>...</td>\n      <td>0.104390</td>\n      <td>1.587857</td>\n      <td>3.994697</td>\n      <td>1.028399</td>\n      <td>1.802665</td>\n      <td>0.989126</td>\n      <td>1.489979</td>\n      <td>2.400227</td>\n      <td>1.343182</td>\n      <td>1.541106</td>\n    </tr>\n    <tr>\n      <th>std</th>\n      <td>7.461187</td>\n      <td>15.648454</td>\n      <td>9.827651</td>\n      <td>8.003103</td>\n      <td>7.741100</td>\n      <td>7.055677</td>\n      <td>12.010807</td>\n      <td>8.432689</td>\n      <td>6.146157</td>\n      <td>8.085340</td>\n      <td>...</td>\n      <td>35.608439</td>\n      <td>5.723208</td>\n      <td>18.628149</td>\n      <td>6.039896</td>\n      <td>8.533798</td>\n      <td>16.286949</td>\n      <td>9.290929</td>\n      <td>20.526067</td>\n      <td>9.774808</td>\n      <td>14.732991</td>\n    </tr>\n    <tr>\n      <th>min</th>\n      <td>-17.511250</td>\n      <td>-59.888203</td>\n      <td>-31.680975</td>\n      <td>-22.805414</td>\n      <td>-20.554662</td>\n      <td>-14.409396</td>\n      <td>-32.171964</td>\n      <td>-21.795201</td>\n      <td>-14.163315</td>\n      <td>-20.436829</td>\n      <td>...</td>\n      <td>-93.535620</td>\n      <td>-14.152071</td>\n      <td>-39.585531</td>\n      <td>-18.955548</td>\n      <td>-22.995447</td>\n      <td>-32.505190</td>\n      <td>-20.324509</td>\n      <td>-58.783784</td>\n      <td>-21.470588</td>\n      <td>-32.947233</td>\n    </tr>\n    <tr>\n      <th>25%</th>\n      <td>-2.972333</td>\n      <td>-6.248814</td>\n      <td>-3.676245</td>\n      <td>-2.436681</td>\n      <td>-3.522304</td>\n      <td>-2.120404</td>\n      <td>-6.374729</td>\n      <td>-3.513669</td>\n      <td>-1.640893</td>\n      <td>-3.617833</td>\n      <td>...</td>\n      <td>-16.579480</td>\n      <td>-2.096391</td>\n      <td>-6.491878</td>\n      <td>-3.369990</td>\n      <td>-3.400401</td>\n      <td>-9.690819</td>\n      <td>-3.767701</td>\n      <td>-9.952641</td>\n      <td>-4.954044</td>\n      <td>-8.256194</td>\n    </tr>\n    <tr>\n      <th>50%</th>\n      <td>0.955484</td>\n      <td>0.508329</td>\n      <td>1.882762</td>\n      <td>2.172760</td>\n      <td>1.302784</td>\n      <td>2.248978</td>\n      <td>0.710577</td>\n      <td>0.928074</td>\n      <td>1.707620</td>\n      <td>1.713062</td>\n      <td>...</td>\n      <td>-1.762821</td>\n      <td>1.051149</td>\n      <td>2.594340</td>\n      <td>0.943908</td>\n      <td>1.504713</td>\n      <td>-0.570125</td>\n      <td>1.385688</td>\n      <td>3.194888</td>\n      <td>0.261003</td>\n      <td>0.436840</td>\n    </tr>\n    <tr>\n      <th>75%</th>\n      <td>6.261872</td>\n      <td>8.916523</td>\n      <td>5.857709</td>\n      <td>6.696716</td>\n      <td>5.731240</td>\n      <td>7.088283</td>\n      <td>7.864065</td>\n      <td>6.597558</td>\n      <td>5.923253</td>\n      <td>6.769499</td>\n      <td>...</td>\n      <td>13.088901</td>\n      <td>4.874314</td>\n      <td>15.612824</td>\n      <td>4.665325</td>\n      <td>6.318002</td>\n      <td>9.532059</td>\n      <td>6.277636</td>\n      <td>12.658220</td>\n      <td>7.669014</td>\n      <td>9.925884</td>\n    </tr>\n    <tr>\n      <th>max</th>\n      <td>23.720070</td>\n      <td>66.469428</td>\n      <td>40.020441</td>\n      <td>34.412698</td>\n      <td>23.482515</td>\n      <td>18.831055</td>\n      <td>34.372995</td>\n      <td>27.896977</td>\n      <td>12.664582</td>\n      <td>23.543719</td>\n      <td>...</td>\n      <td>165.200000</td>\n      <td>14.877255</td>\n      <td>73.267662</td>\n      <td>14.620853</td>\n      <td>31.955099</td>\n      <td>61.453881</td>\n      <td>31.537619</td>\n      <td>76.528600</td>\n      <td>36.961831</td>\n      <td>45.291526</td>\n    </tr>\n  </tbody>\n</table>\n<p>8 rows × 1986 columns</p>\n</div>",
      "text/plain": "               A        AAL        AAN       AAON        AAP       AAPL  \\\ncount  95.000000  95.000000  95.000000  95.000000  95.000000  95.000000   \nmean    1.585400   2.645319   1.531491   2.284955   1.284023   2.277434   \nstd     7.461187  15.648454   9.827651   8.003103   7.741100   7.055677   \nmin   -17.511250 -59.888203 -31.680975 -22.805414 -20.554662 -14.409396   \n25%    -2.972333  -6.248814  -3.676245  -2.436681  -3.522304  -2.120404   \n50%     0.955484   0.508329   1.882762   2.172760   1.302784   2.248978   \n75%     6.261872   8.916523   5.857709   6.696716   5.731240   7.088283   \nmax    23.720070  66.469428  40.020441  34.412698  23.482515  18.831055   \n\n            AAWW       ABAX        ABC       ABCB  ...        YRCW        YUM  \\\ncount  95.000000  95.000000  95.000000  95.000000  ...   95.000000  95.000000   \nmean    1.196717   1.160586   1.586976   2.090808  ...    0.104390   1.587857   \nstd    12.010807   8.432689   6.146157   8.085340  ...   35.608439   5.723208   \nmin   -32.171964 -21.795201 -14.163315 -20.436829  ...  -93.535620 -14.152071   \n25%    -6.374729  -3.513669  -1.640893  -3.617833  ...  -16.579480  -2.096391   \n50%     0.710577   0.928074   1.707620   1.713062  ...   -1.762821   1.051149   \n75%     7.864065   6.597558   5.923253   6.769499  ...   13.088901   4.874314   \nmax    34.372995  27.896977  12.664582  23.543719  ...  165.200000  14.877255   \n\n            ZAGG        ZBH       ZBRA       ZEUS       ZION       ZIOP  \\\ncount  95.000000  95.000000  95.000000  95.000000  95.000000  95.000000   \nmean    3.994697   1.028399   1.802665   0.989126   1.489979   2.400227   \nstd    18.628149   6.039896   8.533798  16.286949   9.290929  20.526067   \nmin   -39.585531 -18.955548 -22.995447 -32.505190 -20.324509 -58.783784   \n25%    -6.491878  -3.369990  -3.400401  -9.690819  -3.767701  -9.952641   \n50%     2.594340   0.943908   1.504713  -0.570125   1.385688   3.194888   \n75%    15.612824   4.665325   6.318002   9.532059   6.277636  12.658220   \nmax    73.267662  14.620853  31.955099  61.453881  31.537619  76.528600   \n\n            ZIXI       ZUMZ  \ncount  95.000000  95.000000  \nmean    1.343182   1.541106  \nstd     9.774808  14.732991  \nmin   -21.470588 -32.947233  \n25%    -4.954044  -8.256194  \n50%     0.261003   0.436840  \n75%     7.669014   9.925884  \nmax    36.961831  45.291526  \n\n[8 rows x 1986 columns]"
     },
     "execution_count": 34,
     "metadata": {},
     "output_type": "execute_result"
    }
   ],
   "source": [
    "excess_returns = returns.sub(ff_factor_data.RF, axis = 0)\n",
    "excess_returns.describe()"
   ]
  },
  {
   "cell_type": "code",
   "execution_count": 35,
   "metadata": {},
   "outputs": [],
   "source": [
    "excess_returns = excess_returns.clip(lower=np.percentile(excess_returns, 1),\n",
    "                                     upper=np.percentile(excess_returns, 99))"
   ]
  },
  {
   "cell_type": "markdown",
   "metadata": {},
   "source": [
    "# Regression"
   ]
  },
  {
   "cell_type": "code",
   "execution_count": 36,
   "metadata": {},
   "outputs": [
    {
     "name": "stdout",
     "output_type": "stream",
     "text": [
      "<class 'pandas.core.frame.DataFrame'>\n",
      "PeriodIndex: 95 entries, 2010-02 to 2017-12\n",
      "Freq: M\n",
      "Data columns (total 17 columns):\n",
      " #   Column  Non-Null Count  Dtype  \n",
      "---  ------  --------------  -----  \n",
      " 0   Food    95 non-null     float64\n",
      " 1   Mines   95 non-null     float64\n",
      " 2   Oil     95 non-null     float64\n",
      " 3   Clths   95 non-null     float64\n",
      " 4   Durbl   95 non-null     float64\n",
      " 5   Chems   95 non-null     float64\n",
      " 6   Cnsum   95 non-null     float64\n",
      " 7   Cnstr   95 non-null     float64\n",
      " 8   Steel   95 non-null     float64\n",
      " 9   FabPr   95 non-null     float64\n",
      " 10  Machn   95 non-null     float64\n",
      " 11  Cars    95 non-null     float64\n",
      " 12  Trans   95 non-null     float64\n",
      " 13  Utils   95 non-null     float64\n",
      " 14  Rtail   95 non-null     float64\n",
      " 15  Finan   95 non-null     float64\n",
      " 16  Other   95 non-null     float64\n",
      "dtypes: float64(17)\n",
      "memory usage: 13.4 KB\n"
     ]
    }
   ],
   "source": [
    "ff_portfolio_data.info()"
   ]
  },
  {
   "cell_type": "code",
   "execution_count": 37,
   "metadata": {},
   "outputs": [
    {
     "name": "stdout",
     "output_type": "stream",
     "text": [
      "<class 'pandas.core.frame.DataFrame'>\n",
      "PeriodIndex: 95 entries, 2010-02 to 2017-12\n",
      "Freq: M\n",
      "Data columns (total 5 columns):\n",
      " #   Column  Non-Null Count  Dtype  \n",
      "---  ------  --------------  -----  \n",
      " 0   Mkt-RF  95 non-null     float64\n",
      " 1   SMB     95 non-null     float64\n",
      " 2   HML     95 non-null     float64\n",
      " 3   RMW     95 non-null     float64\n",
      " 4   CMA     95 non-null     float64\n",
      "dtypes: float64(5)\n",
      "memory usage: 6.5 KB\n"
     ]
    }
   ],
   "source": [
    "ff_factor_data = ff_factor_data.drop('RF', axis = 1)\n",
    "ff_factor_data.info()"
   ]
  },
  {
   "cell_type": "code",
   "execution_count": 44,
   "metadata": {},
   "outputs": [],
   "source": [
    "betas = []\n",
    "\n",
    "for industry in ff_portfolio_data:\n",
    "    model = OLS(endog = ff_portfolio_data.loc[ff_portfolio_data.index, industry],\n",
    "                exog=add_constant(ff_factor_data)).fit()\n",
    "    betas.append(model.params.drop('const'))"
   ]
  },
  {
   "cell_type": "code",
   "execution_count": 51,
   "metadata": {},
   "outputs": [
    {
     "name": "stdout",
     "output_type": "stream",
     "text": [
      "<class 'pandas.core.frame.DataFrame'>\n",
      "Index: 17 entries, Food  to Other\n",
      "Data columns (total 5 columns):\n",
      " #   Column  Non-Null Count  Dtype  \n",
      "---  ------  --------------  -----  \n",
      " 0   Mkt-RF  17 non-null     float64\n",
      " 1   SMB     17 non-null     float64\n",
      " 2   HML     17 non-null     float64\n",
      " 3   RMW     17 non-null     float64\n",
      " 4   CMA     17 non-null     float64\n",
      "dtypes: float64(5)\n",
      "memory usage: 1.3+ KB\n"
     ]
    }
   ],
   "source": [
    "betas = pd.DataFrame(betas,\n",
    "                    columns = ff_factor_data.columns,\n",
    "                    index = ff_portfolio_data.columns)\n",
    "betas.info()"
   ]
  },
  {
   "cell_type": "code",
   "execution_count": 53,
   "metadata": {},
   "outputs": [
    {
     "data": {
      "text/html": "<div>\n<style scoped>\n    .dataframe tbody tr th:only-of-type {\n        vertical-align: middle;\n    }\n\n    .dataframe tbody tr th {\n        vertical-align: top;\n    }\n\n    .dataframe thead th {\n        text-align: right;\n    }\n</style>\n<table border=\"1\" class=\"dataframe\">\n  <thead>\n    <tr style=\"text-align: right;\">\n      <th></th>\n      <th>Food</th>\n      <th>Mines</th>\n      <th>Oil</th>\n      <th>Clths</th>\n      <th>Durbl</th>\n      <th>Chems</th>\n      <th>Cnsum</th>\n      <th>Cnstr</th>\n      <th>Steel</th>\n      <th>FabPr</th>\n      <th>Machn</th>\n      <th>Cars</th>\n      <th>Trans</th>\n      <th>Utils</th>\n      <th>Rtail</th>\n      <th>Finan</th>\n      <th>Other</th>\n    </tr>\n    <tr>\n      <th>date</th>\n      <th></th>\n      <th></th>\n      <th></th>\n      <th></th>\n      <th></th>\n      <th></th>\n      <th></th>\n      <th></th>\n      <th></th>\n      <th></th>\n      <th></th>\n      <th></th>\n      <th></th>\n      <th></th>\n      <th></th>\n      <th></th>\n      <th></th>\n    </tr>\n  </thead>\n  <tbody>\n    <tr>\n      <th>2010-02</th>\n      <td>1.75</td>\n      <td>12.41</td>\n      <td>2.32</td>\n      <td>7.18</td>\n      <td>9.80</td>\n      <td>5.77</td>\n      <td>1.33</td>\n      <td>5.92</td>\n      <td>4.48</td>\n      <td>7.35</td>\n      <td>7.27</td>\n      <td>6.60</td>\n      <td>6.16</td>\n      <td>-0.42</td>\n      <td>3.69</td>\n      <td>2.91</td>\n      <td>2.57</td>\n    </tr>\n    <tr>\n      <th>2010-03</th>\n      <td>4.96</td>\n      <td>7.32</td>\n      <td>3.19</td>\n      <td>11.23</td>\n      <td>5.50</td>\n      <td>7.45</td>\n      <td>3.24</td>\n      <td>5.54</td>\n      <td>11.98</td>\n      <td>5.32</td>\n      <td>7.77</td>\n      <td>8.82</td>\n      <td>8.98</td>\n      <td>3.11</td>\n      <td>6.49</td>\n      <td>8.30</td>\n      <td>6.19</td>\n    </tr>\n    <tr>\n      <th>2010-04</th>\n      <td>-1.36</td>\n      <td>-0.76</td>\n      <td>4.30</td>\n      <td>4.91</td>\n      <td>6.88</td>\n      <td>2.55</td>\n      <td>-1.99</td>\n      <td>10.80</td>\n      <td>-2.95</td>\n      <td>3.42</td>\n      <td>4.82</td>\n      <td>6.55</td>\n      <td>2.91</td>\n      <td>2.84</td>\n      <td>1.33</td>\n      <td>1.12</td>\n      <td>1.41</td>\n    </tr>\n    <tr>\n      <th>2010-05</th>\n      <td>-4.86</td>\n      <td>-8.01</td>\n      <td>-10.15</td>\n      <td>-6.29</td>\n      <td>-5.43</td>\n      <td>-10.63</td>\n      <td>-6.25</td>\n      <td>-8.12</td>\n      <td>-7.48</td>\n      <td>-8.97</td>\n      <td>-8.08</td>\n      <td>-7.20</td>\n      <td>-7.56</td>\n      <td>-6.30</td>\n      <td>-5.73</td>\n      <td>-9.11</td>\n      <td>-8.04</td>\n    </tr>\n    <tr>\n      <th>2010-06</th>\n      <td>-1.97</td>\n      <td>-7.01</td>\n      <td>-6.24</td>\n      <td>-9.77</td>\n      <td>-8.75</td>\n      <td>-8.08</td>\n      <td>-0.10</td>\n      <td>-14.14</td>\n      <td>-13.30</td>\n      <td>-6.35</td>\n      <td>-5.98</td>\n      <td>-8.10</td>\n      <td>-7.23</td>\n      <td>-0.71</td>\n      <td>-9.20</td>\n      <td>-7.24</td>\n      <td>-4.82</td>\n    </tr>\n    <tr>\n      <th>...</th>\n      <td>...</td>\n      <td>...</td>\n      <td>...</td>\n      <td>...</td>\n      <td>...</td>\n      <td>...</td>\n      <td>...</td>\n      <td>...</td>\n      <td>...</td>\n      <td>...</td>\n      <td>...</td>\n      <td>...</td>\n      <td>...</td>\n      <td>...</td>\n      <td>...</td>\n      <td>...</td>\n      <td>...</td>\n    </tr>\n    <tr>\n      <th>2017-08</th>\n      <td>-1.89</td>\n      <td>0.70</td>\n      <td>-5.21</td>\n      <td>-4.41</td>\n      <td>-3.85</td>\n      <td>1.54</td>\n      <td>0.51</td>\n      <td>-0.47</td>\n      <td>1.58</td>\n      <td>-1.51</td>\n      <td>1.24</td>\n      <td>0.77</td>\n      <td>1.54</td>\n      <td>2.08</td>\n      <td>-1.38</td>\n      <td>-1.38</td>\n      <td>1.60</td>\n    </tr>\n    <tr>\n      <th>2017-09</th>\n      <td>-0.36</td>\n      <td>-1.21</td>\n      <td>10.89</td>\n      <td>1.13</td>\n      <td>4.39</td>\n      <td>6.97</td>\n      <td>0.60</td>\n      <td>7.74</td>\n      <td>3.64</td>\n      <td>7.29</td>\n      <td>5.63</td>\n      <td>7.44</td>\n      <td>4.66</td>\n      <td>-2.04</td>\n      <td>0.63</td>\n      <td>5.18</td>\n      <td>0.16</td>\n    </tr>\n    <tr>\n      <th>2017-10</th>\n      <td>0.89</td>\n      <td>1.14</td>\n      <td>0.32</td>\n      <td>2.96</td>\n      <td>-1.73</td>\n      <td>4.70</td>\n      <td>-3.72</td>\n      <td>3.99</td>\n      <td>2.14</td>\n      <td>1.67</td>\n      <td>6.07</td>\n      <td>1.07</td>\n      <td>-0.33</td>\n      <td>2.93</td>\n      <td>3.98</td>\n      <td>3.28</td>\n      <td>2.45</td>\n    </tr>\n    <tr>\n      <th>2017-11</th>\n      <td>4.17</td>\n      <td>0.78</td>\n      <td>2.80</td>\n      <td>7.22</td>\n      <td>3.75</td>\n      <td>2.24</td>\n      <td>2.62</td>\n      <td>6.90</td>\n      <td>-1.47</td>\n      <td>0.30</td>\n      <td>2.32</td>\n      <td>2.44</td>\n      <td>5.48</td>\n      <td>2.34</td>\n      <td>8.78</td>\n      <td>3.88</td>\n      <td>1.67</td>\n    </tr>\n    <tr>\n      <th>2017-12</th>\n      <td>1.21</td>\n      <td>11.28</td>\n      <td>5.01</td>\n      <td>3.72</td>\n      <td>-2.40</td>\n      <td>0.48</td>\n      <td>1.76</td>\n      <td>3.75</td>\n      <td>13.12</td>\n      <td>0.52</td>\n      <td>0.26</td>\n      <td>-0.61</td>\n      <td>3.01</td>\n      <td>-5.07</td>\n      <td>1.44</td>\n      <td>0.94</td>\n      <td>0.57</td>\n    </tr>\n  </tbody>\n</table>\n<p>95 rows × 17 columns</p>\n</div>",
      "text/plain": "         Food   Mines  Oil    Clths  Durbl  Chems  Cnsum  Cnstr  Steel  FabPr  \\\ndate                                                                            \n2010-02   1.75  12.41   2.32   7.18   9.80   5.77   1.33   5.92   4.48   7.35   \n2010-03   4.96   7.32   3.19  11.23   5.50   7.45   3.24   5.54  11.98   5.32   \n2010-04  -1.36  -0.76   4.30   4.91   6.88   2.55  -1.99  10.80  -2.95   3.42   \n2010-05  -4.86  -8.01 -10.15  -6.29  -5.43 -10.63  -6.25  -8.12  -7.48  -8.97   \n2010-06  -1.97  -7.01  -6.24  -9.77  -8.75  -8.08  -0.10 -14.14 -13.30  -6.35   \n...        ...    ...    ...    ...    ...    ...    ...    ...    ...    ...   \n2017-08  -1.89   0.70  -5.21  -4.41  -3.85   1.54   0.51  -0.47   1.58  -1.51   \n2017-09  -0.36  -1.21  10.89   1.13   4.39   6.97   0.60   7.74   3.64   7.29   \n2017-10   0.89   1.14   0.32   2.96  -1.73   4.70  -3.72   3.99   2.14   1.67   \n2017-11   4.17   0.78   2.80   7.22   3.75   2.24   2.62   6.90  -1.47   0.30   \n2017-12   1.21  11.28   5.01   3.72  -2.40   0.48   1.76   3.75  13.12   0.52   \n\n         Machn  Cars   Trans  Utils  Rtail  Finan  Other  \ndate                                                      \n2010-02   7.27   6.60   6.16  -0.42   3.69   2.91   2.57  \n2010-03   7.77   8.82   8.98   3.11   6.49   8.30   6.19  \n2010-04   4.82   6.55   2.91   2.84   1.33   1.12   1.41  \n2010-05  -8.08  -7.20  -7.56  -6.30  -5.73  -9.11  -8.04  \n2010-06  -5.98  -8.10  -7.23  -0.71  -9.20  -7.24  -4.82  \n...        ...    ...    ...    ...    ...    ...    ...  \n2017-08   1.24   0.77   1.54   2.08  -1.38  -1.38   1.60  \n2017-09   5.63   7.44   4.66  -2.04   0.63   5.18   0.16  \n2017-10   6.07   1.07  -0.33   2.93   3.98   3.28   2.45  \n2017-11   2.32   2.44   5.48   2.34   8.78   3.88   1.67  \n2017-12   0.26  -0.61   3.01  -5.07   1.44   0.94   0.57  \n\n[95 rows x 17 columns]"
     },
     "execution_count": 53,
     "metadata": {},
     "output_type": "execute_result"
    }
   ],
   "source": [
    "ff_portfolio_data"
   ]
  },
  {
   "cell_type": "code",
   "execution_count": 61,
   "metadata": {},
   "outputs": [],
   "source": [
    "lambdas = []\n",
    "for period in ff_portfolio_data.index:\n",
    "    model = OLS(endog=ff_portfolio_data.loc[period, betas.index],\n",
    "                exog = betas).fit()\n",
    "    lambdas.append(model.params)"
   ]
  },
  {
   "cell_type": "code",
   "execution_count": 66,
   "metadata": {},
   "outputs": [
    {
     "name": "stdout",
     "output_type": "stream",
     "text": [
      "<class 'pandas.core.frame.DataFrame'>\n",
      "PeriodIndex: 95 entries, 2010-02 to 2017-12\n",
      "Freq: M\n",
      "Data columns (total 5 columns):\n",
      " #   Column  Non-Null Count  Dtype  \n",
      "---  ------  --------------  -----  \n",
      " 0   Mkt-RF  95 non-null     float64\n",
      " 1   SMB     95 non-null     float64\n",
      " 2   HML     95 non-null     float64\n",
      " 3   RMW     95 non-null     float64\n",
      " 4   CMA     95 non-null     float64\n",
      "dtypes: float64(5)\n",
      "memory usage: 6.5 KB\n"
     ]
    }
   ],
   "source": [
    "lambdas = pd.DataFrame(lambdas,\n",
    "                        columns = ff_factor_data.columns,\n",
    "                        index = ff_portfolio_data.index)\n",
    "lambdas.info()"
   ]
  },
  {
   "cell_type": "markdown",
   "metadata": {},
   "source": [
    "# Calculate the risk premia"
   ]
  },
  {
   "cell_type": "code",
   "execution_count": 68,
   "metadata": {},
   "outputs": [
    {
     "data": {
      "text/html": "<div>\n<style scoped>\n    .dataframe tbody tr th:only-of-type {\n        vertical-align: middle;\n    }\n\n    .dataframe tbody tr th {\n        vertical-align: top;\n    }\n\n    .dataframe thead th {\n        text-align: right;\n    }\n</style>\n<table border=\"1\" class=\"dataframe\">\n  <thead>\n    <tr style=\"text-align: right;\">\n      <th></th>\n      <th>Mkt-RF</th>\n      <th>SMB</th>\n      <th>HML</th>\n      <th>RMW</th>\n      <th>CMA</th>\n    </tr>\n    <tr>\n      <th>date</th>\n      <th></th>\n      <th></th>\n      <th></th>\n      <th></th>\n      <th></th>\n    </tr>\n  </thead>\n  <tbody>\n    <tr>\n      <th>2010-02</th>\n      <td>3.782975</td>\n      <td>5.417661</td>\n      <td>-0.980878</td>\n      <td>1.830151</td>\n      <td>-0.292024</td>\n    </tr>\n    <tr>\n      <th>2010-03</th>\n      <td>6.280456</td>\n      <td>-0.600911</td>\n      <td>0.321616</td>\n      <td>2.911218</td>\n      <td>-1.613114</td>\n    </tr>\n    <tr>\n      <th>2010-04</th>\n      <td>1.757399</td>\n      <td>8.120074</td>\n      <td>-4.043885</td>\n      <td>-2.144651</td>\n      <td>-2.214726</td>\n    </tr>\n    <tr>\n      <th>2010-05</th>\n      <td>-7.756123</td>\n      <td>3.062976</td>\n      <td>-0.594831</td>\n      <td>1.256314</td>\n      <td>-0.116234</td>\n    </tr>\n    <tr>\n      <th>2010-06</th>\n      <td>-5.246545</td>\n      <td>-5.884149</td>\n      <td>-1.523600</td>\n      <td>-2.089617</td>\n      <td>-0.037391</td>\n    </tr>\n    <tr>\n      <th>...</th>\n      <td>...</td>\n      <td>...</td>\n      <td>...</td>\n      <td>...</td>\n      <td>...</td>\n    </tr>\n    <tr>\n      <th>2017-08</th>\n      <td>0.358487</td>\n      <td>0.277596</td>\n      <td>-2.990968</td>\n      <td>-4.391072</td>\n      <td>0.584407</td>\n    </tr>\n    <tr>\n      <th>2017-09</th>\n      <td>3.060710</td>\n      <td>6.294837</td>\n      <td>1.255377</td>\n      <td>-4.432020</td>\n      <td>-0.322714</td>\n    </tr>\n    <tr>\n      <th>2017-10</th>\n      <td>2.452586</td>\n      <td>-2.881683</td>\n      <td>0.674392</td>\n      <td>1.984848</td>\n      <td>-3.923340</td>\n    </tr>\n    <tr>\n      <th>2017-11</th>\n      <td>2.925482</td>\n      <td>-2.547982</td>\n      <td>-1.512361</td>\n      <td>5.099569</td>\n      <td>-2.724585</td>\n    </tr>\n    <tr>\n      <th>2017-12</th>\n      <td>0.940844</td>\n      <td>0.861400</td>\n      <td>7.356686</td>\n      <td>0.980122</td>\n      <td>7.503989</td>\n    </tr>\n  </tbody>\n</table>\n<p>95 rows × 5 columns</p>\n</div>",
      "text/plain": "           Mkt-RF       SMB       HML       RMW       CMA\ndate                                                     \n2010-02  3.782975  5.417661 -0.980878  1.830151 -0.292024\n2010-03  6.280456 -0.600911  0.321616  2.911218 -1.613114\n2010-04  1.757399  8.120074 -4.043885 -2.144651 -2.214726\n2010-05 -7.756123  3.062976 -0.594831  1.256314 -0.116234\n2010-06 -5.246545 -5.884149 -1.523600 -2.089617 -0.037391\n...           ...       ...       ...       ...       ...\n2017-08  0.358487  0.277596 -2.990968 -4.391072  0.584407\n2017-09  3.060710  6.294837  1.255377 -4.432020 -0.322714\n2017-10  2.452586 -2.881683  0.674392  1.984848 -3.923340\n2017-11  2.925482 -2.547982 -1.512361  5.099569 -2.724585\n2017-12  0.940844  0.861400  7.356686  0.980122  7.503989\n\n[95 rows x 5 columns]"
     },
     "execution_count": 68,
     "metadata": {},
     "output_type": "execute_result"
    }
   ],
   "source": [
    "lambdas"
   ]
  },
  {
   "cell_type": "code",
   "execution_count": 78,
   "metadata": {},
   "outputs": [
    {
     "data": {
      "image/png": "[encoded data removed]",
      "text/plain": "<Figure size 1200x400 with 1 Axes>"
     },
     "metadata": {},
     "output_type": "display_data"
    }
   ],
   "source": [
    "lambdas.mean().sort_values().plot.barh(figsize=(12, 4))\n",
    "sns.despine()\n",
    "plt.tight_layout()"
   ]
  },
  {
   "cell_type": "code",
   "execution_count": null,
   "metadata": {},
   "outputs": [],
   "source": []
  }
 ],
 "metadata": {
  "kernelspec": {
   "display_name": "Python 3.11.5 64-bit",
   "name": "python3115jvsc74a57bd020e40d8fc09a6690434ad602c7eb2d8de15d36ec466bfbfb0de97c7c540d7363"
  },
  "language_info": {
   "codemirror_mode": {
    "name": "ipython",
    "version": 3
   },
   "file_extension": ".py",
   "mimetype": "text/x-python",
   "name": "python",
   "nbconvert_exporter": "python",
   "pygments_lexer": "ipython3",
   "version": "3.11.5"
  },
  "metadata": {
   "interpreter": {
    "hash": "20e40d8fc09a6690434ad602c7eb2d8de15d36ec466bfbfb0de97c7c540d7363"
   }
  },
  "orig_nbformat": 2
 },
 "nbformat": 4,
 "nbformat_minor": 2
}