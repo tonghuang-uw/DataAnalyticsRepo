{
 "cells": [
  {
   "cell_type": "code",
   "execution_count": 10,
   "metadata": {},
   "outputs": [
    {
     "name": "stderr",
     "output_type": "stream",
     "text": [
      "[nltk_data] Downloading package punkt to /Users/tonghuang/nltk_data...\n",
      "[nltk_data]   Package punkt is already up-to-date!\n"
     ]
    }
   ],
   "source": [
    "import warnings\n",
    "warnings.filterwarnings('ignore')\n",
    "%matplotlib inline\n",
    "import sys\n",
    "from pathlib import Path\n",
    "\n",
    "import pandas as pd\n",
    "\n",
    "import spacy\n",
    "from spacy import displacy\n",
    "from textblob import TextBlob, Word\n",
    "import nltk\n",
    "from nltk.stem.snowball import SnowballStemmer\n",
    "nltk.download('punkt')\n",
    "from sklearn.feature_extraction.text import TfidfVectorizer\n",
    "from sklearn.decomposition import TruncatedSVD, PCA\n",
    "from sklearn.model_selection import train_test_split\n",
    "# sklearn for feature extraction & modeling\n",
    "from sklearn.feature_extraction.text import CountVectorizer"
   ]
  },
  {
   "cell_type": "code",
   "execution_count": 5,
   "metadata": {},
   "outputs": [],
   "source": [
    "DATA_DIR = Path(\"./\")\n",
    "files = (DATA_DIR / 'bbc').glob('**/*.txt')\n",
    "doc_list = []\n",
    "for i, file in enumerate(files):\n",
    "    with open(str(file), encoding='latin1') as f:\n",
    "        topic = file.parts[-2]\n",
    "        lines = f.readlines()\n",
    "        heading = lines[0].strip()\n",
    "        body = ' '.join([l.strip() for l in lines[1:]])\n",
    "        doc_list.append([topic.capitalize(), heading, body])"
   ]
  },
  {
   "cell_type": "code",
   "execution_count": 11,
   "metadata": {},
   "outputs": [
    {
     "name": "stdout",
     "output_type": "stream",
     "text": [
      "<class 'pandas.core.frame.DataFrame'>\n",
      "RangeIndex: 2225 entries, 0 to 2224\n",
      "Data columns (total 3 columns):\n",
      " #   Column    Non-Null Count  Dtype \n",
      "---  ------    --------------  ----- \n",
      " 0   Category  2225 non-null   object\n",
      " 1   Heading   2225 non-null   object\n",
      " 2   Article   2225 non-null   object\n",
      "dtypes: object(3)\n",
      "memory usage: 52.3+ KB\n"
     ]
    }
   ],
   "source": [
    "docs = pd.DataFrame(doc_list, columns=['Category', 'Heading', 'Article'])\n",
    "docs.info()"
   ]
  },
  {
   "cell_type": "code",
   "execution_count": 12,
   "metadata": {},
   "outputs": [],
   "source": [
    "train_docs, test_docs = train_test_split(docs,\n",
    "                                        stratify= docs.Category,\n",
    "                                        test_size=50,\n",
    "                                        random_state=42)"
   ]
  },
  {
   "cell_type": "code",
   "execution_count": 15,
   "metadata": {},
   "outputs": [
    {
     "data": {
      "text/plain": "((2175, 3), (50, 3))"
     },
     "execution_count": 15,
     "metadata": {},
     "output_type": "execute_result"
    }
   ],
   "source": [
    "train_docs.shape, test_docs.shape"
   ]
  },
  {
   "cell_type": "code",
   "execution_count": 16,
   "metadata": {},
   "outputs": [
    {
     "data": {
      "text/plain": "Category\nSport            12\nBusiness         11\nEntertainment     9\nTech              9\nPolitics          9\nName: count, dtype: int64"
     },
     "execution_count": 16,
     "metadata": {},
     "output_type": "execute_result"
    }
   ],
   "source": [
    "pd.Series(test_docs.Category).value_counts()"
   ]
  },
  {
   "cell_type": "code",
   "execution_count": 18,
   "metadata": {},
   "outputs": [],
   "source": [
    "vectorizer = TfidfVectorizer(max_df=0.25,\n",
    "                            min_df=0.01,\n",
    "                            stop_words=\"english\",\n",
    "                            binary=False)\n",
    "train_dtm = vectorizer.fit_transform(train_docs.Article)\n",
    "test_dtm = vectorizer.transform(test_docs.Article)"
   ]
  },
  {
   "cell_type": "markdown",
   "metadata": {},
   "source": [
    "# Get Token count"
   ]
  },
  {
   "cell_type": "code",
   "execution_count": 26,
   "metadata": {},
   "outputs": [
    {
     "data": {
      "text/plain": "film          41.969806\ngovernment    38.831057\nuk            36.030715\ngame          36.018343\nbest          35.457674\ndtype: float64"
     },
     "execution_count": 26,
     "metadata": {},
     "output_type": "execute_result"
    }
   ],
   "source": [
    "train_token_count = train_dtm.sum(0).A.squeeze()\n",
    "tokens = vectorizer.get_feature_names_out()\n",
    "word_count = pd.Series(train_token_count,\n",
    "                       index=tokens).sort_values(ascending=False)\n",
    "word_count.head()"
   ]
  },
  {
   "cell_type": "code",
   "execution_count": 29,
   "metadata": {},
   "outputs": [
    {
     "data": {
      "text/plain": "array([8.91758111, 5.72637431, 5.40074482, 5.06770949, 4.73172083])"
     },
     "execution_count": 29,
     "metadata": {},
     "output_type": "execute_result"
    }
   ],
   "source": [
    "n_components = 5\n",
    "topic_labels = ['Topic {}'.format(i) for i in range(1, n_components + 1)]\n",
    "svd = TruncatedSVD(n_components=n_components, n_iter=5, random_state=42)\n",
    "svd.fit(train_dtm)\n",
    "svd.singular_values_"
   ]
  },
  {
   "cell_type": "code",
   "execution_count": 31,
   "metadata": {},
   "outputs": [],
   "source": [
    "train_doc_topics = svd.transform(train_dtm)"
   ]
  },
  {
   "cell_type": "code",
   "execution_count": 37,
   "metadata": {},
   "outputs": [
    {
     "data": {
      "image/png": "[encoded data removed]",
      "text/plain": "<Figure size 1400x500 with 1 Axes>"
     },
     "metadata": {},
     "output_type": "display_data"
    }
   ],
   "source": [
    "train_result = pd.DataFrame(data=train_doc_topics,\n",
    "                            columns=topic_labels,\n",
    "                            index=train_docs.Category)\n",
    "train_result.groupby(level='Category').mean().plot.bar(figsize=(14, 5), rot=0);"
   ]
  },
  {
   "cell_type": "code",
   "execution_count": 38,
   "metadata": {},
   "outputs": [
    {
     "data": {
      "text/html": "<div>\n<style scoped>\n    .dataframe tbody tr th:only-of-type {\n        vertical-align: middle;\n    }\n\n    .dataframe tbody tr th {\n        vertical-align: top;\n    }\n\n    .dataframe thead th {\n        text-align: right;\n    }\n</style>\n<table border=\"1\" class=\"dataframe\">\n  <thead>\n    <tr style=\"text-align: right;\">\n      <th></th>\n      <th>Topic 1</th>\n      <th>Topic 2</th>\n      <th>Topic 3</th>\n      <th>Topic 4</th>\n      <th>Topic 5</th>\n    </tr>\n  </thead>\n  <tbody>\n    <tr>\n      <th>film</th>\n      <td>0.098131</td>\n      <td>-0.158746</td>\n      <td>-0.041890</td>\n      <td>0.470003</td>\n      <td>-0.100410</td>\n    </tr>\n    <tr>\n      <th>government</th>\n      <td>0.105534</td>\n      <td>0.156803</td>\n      <td>0.051458</td>\n      <td>0.000527</td>\n      <td>-0.033040</td>\n    </tr>\n    <tr>\n      <th>uk</th>\n      <td>0.092203</td>\n      <td>0.031396</td>\n      <td>-0.057260</td>\n      <td>0.038588</td>\n      <td>0.015374</td>\n    </tr>\n    <tr>\n      <th>game</th>\n      <td>0.090872</td>\n      <td>-0.165281</td>\n      <td>0.076286</td>\n      <td>-0.108514</td>\n      <td>0.055732</td>\n    </tr>\n    <tr>\n      <th>best</th>\n      <td>0.086469</td>\n      <td>-0.144365</td>\n      <td>0.015053</td>\n      <td>0.261192</td>\n      <td>-0.088418</td>\n    </tr>\n    <tr>\n      <th>labour</th>\n      <td>0.101441</td>\n      <td>0.242068</td>\n      <td>0.229497</td>\n      <td>0.070853</td>\n      <td>0.059631</td>\n    </tr>\n    <tr>\n      <th>music</th>\n      <td>0.077332</td>\n      <td>-0.045554</td>\n      <td>-0.114794</td>\n      <td>0.068489</td>\n      <td>0.138213</td>\n    </tr>\n    <tr>\n      <th>000</th>\n      <td>0.072875</td>\n      <td>0.029264</td>\n      <td>-0.045432</td>\n      <td>0.001696</td>\n      <td>-0.011724</td>\n    </tr>\n    <tr>\n      <th>company</th>\n      <td>0.067113</td>\n      <td>0.023057</td>\n      <td>-0.099327</td>\n      <td>-0.028270</td>\n      <td>-0.055466</td>\n    </tr>\n    <tr>\n      <th>number</th>\n      <td>0.069624</td>\n      <td>-0.038279</td>\n      <td>-0.022294</td>\n      <td>0.027328</td>\n      <td>0.008494</td>\n    </tr>\n  </tbody>\n</table>\n</div>",
      "text/plain": "             Topic 1   Topic 2   Topic 3   Topic 4   Topic 5\nfilm        0.098131 -0.158746 -0.041890  0.470003 -0.100410\ngovernment  0.105534  0.156803  0.051458  0.000527 -0.033040\nuk          0.092203  0.031396 -0.057260  0.038588  0.015374\ngame        0.090872 -0.165281  0.076286 -0.108514  0.055732\nbest        0.086469 -0.144365  0.015053  0.261192 -0.088418\nlabour      0.101441  0.242068  0.229497  0.070853  0.059631\nmusic       0.077332 -0.045554 -0.114794  0.068489  0.138213\n000         0.072875  0.029264 -0.045432  0.001696 -0.011724\ncompany     0.067113  0.023057 -0.099327 -0.028270 -0.055466\nnumber      0.069624 -0.038279 -0.022294  0.027328  0.008494"
     },
     "execution_count": 38,
     "metadata": {},
     "output_type": "execute_result"
    }
   ],
   "source": [
    "topics = pd.DataFrame(svd.components_.T, index=tokens, columns=topic_labels)\n",
    "topics.loc[word_count.head(10).index]"
   ]
  },
  {
   "cell_type": "code",
   "execution_count": null,
   "metadata": {},
   "outputs": [],
   "source": []
  }
 ],
 "metadata": {
  "kernelspec": {
   "display_name": "Python 3.11.7 64-bit ('nlp': conda)",
   "name": "python3117jvsc74a57bd061144442c5bba5d28851d4d88bd107affeefd4f9a3e21babceae053099746efa"
  },
  "language_info": {
   "codemirror_mode": {
    "name": "ipython",
    "version": 3
   },
   "file_extension": ".py",
   "mimetype": "text/x-python",
   "name": "python",
   "nbconvert_exporter": "python",
   "pygments_lexer": "ipython3",
   "version": "3.11.7"
  },
  "metadata": {
   "interpreter": {
    "hash": "61144442c5bba5d28851d4d88bd107affeefd4f9a3e21babceae053099746efa"
   }
  },
  "orig_nbformat": 2
 },
 "nbformat": 4,
 "nbformat_minor": 2
}